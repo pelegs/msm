{
 "cells": [
  {
   "cell_type": "code",
   "execution_count": 7,
   "metadata": {},
   "outputs": [],
   "source": [
    "import os\n",
    "import matplotlib\n",
    "import matplotlib.pyplot as plt\n",
    "import numpy as np\n",
    "%matplotlib inline\n",
    "matplotlib.rcParams.update({'font.size': 12})\n",
    "import pyemma.coordinates as coor\n",
    "import pyemma.msm as msm\n",
    "import pyemma.plots as mplt"
   ]
  },
  {
   "cell_type": "code",
   "execution_count": 8,
   "metadata": {},
   "outputs": [],
   "source": [
    "import warnings\n",
    "def plot_sampled_function(xall, yall, zall, ax=None, nbins=100, nlevels=20, cmap=plt.cm.bwr, cbar=True, cbar_label=None):\n",
    "    # histogram data\n",
    "    xmin = np.min(xall)\n",
    "    xmax = np.max(xall)\n",
    "    dx = (xmax - xmin) / float(nbins)\n",
    "    ymin = np.min(yall)\n",
    "    ymax = np.max(yall)\n",
    "    dy = (ymax - ymin) / float(nbins)\n",
    "    # bin data\n",
    "    eps = x\n",
    "    xbins = np.linspace(xmin - 0.5*dx, xmax + 0.5*dx, num=nbins)\n",
    "    ybins = np.linspace(ymin - 0.5*dy, ymax + 0.5*dy, num=nbins)\n",
    "    xI = np.digitize(xall, xbins)\n",
    "    yI = np.digitize(yall, ybins)\n",
    "    # result\n",
    "    z = np.zeros((nbins, nbins))\n",
    "    N = np.zeros((nbins, nbins))\n",
    "    # average over bins\n",
    "    for t in range(len(xall)):\n",
    "        z[xI[t], yI[t]] += zall[t]\n",
    "        N[xI[t], yI[t]] += 1.0\n",
    "\n",
    "    with warnings.catch_warnings() as cm:\n",
    "        warnings.simplefilter('ignore')\n",
    "        z /= N\n",
    "    # do a contour plot\n",
    "    extent = [xmin, xmax, ymin, ymax]\n",
    "    if ax is None:\n",
    "        ax = plt.gca()\n",
    "    ax.contourf(z.T, 100, extent=extent, cmap=cmap)\n",
    "    if cbar:\n",
    "        cbar = plt.colorbar()\n",
    "        if cbar_label is not None:\n",
    "            cbar.ax.set_ylabel(cbar_label)\n",
    "\n",
    "    return ax"
   ]
  },
  {
   "cell_type": "code",
   "execution_count": 9,
   "metadata": {},
   "outputs": [],
   "source": [
    "def plot_sampled_density(xall, yall, zall, ax=None, nbins=100, cmap=plt.cm.Blues, cbar=True, cbar_label=None):\n",
    "    return plot_sampled_function(xall, yall, zall, ax=ax, nbins=nbins, cmap=cmap, cbar=cbar, cbar_label=cbar_label)"
   ]
  },
  {
   "cell_type": "code",
   "execution_count": 10,
   "metadata": {},
   "outputs": [
    {
     "ename": "ModuleNotFoundError",
     "evalue": "No module named 'mdshare'",
     "output_type": "error",
     "traceback": [
      "\u001b[0;31m---------------------------------------------------------------------------\u001b[0m",
      "\u001b[0;31mModuleNotFoundError\u001b[0m                       Traceback (most recent call last)",
      "\u001b[0;32m<ipython-input-10-488def97aaee>\u001b[0m in \u001b[0;36m<module>\u001b[0;34m\u001b[0m\n\u001b[0;32m----> 1\u001b[0;31m \u001b[0;32mfrom\u001b[0m \u001b[0mmdshare\u001b[0m \u001b[0;32mimport\u001b[0m \u001b[0mload\u001b[0m\u001b[0;34m\u001b[0m\u001b[0;34m\u001b[0m\u001b[0m\n\u001b[0m",
      "\u001b[0;31mModuleNotFoundError\u001b[0m: No module named 'mdshare'"
     ]
    }
   ],
   "source": [
    "from mdshare import load"
   ]
  },
  {
   "cell_type": "code",
   "execution_count": null,
   "metadata": {},
   "outputs": [],
   "source": []
  }
 ],
 "metadata": {
  "kernelspec": {
   "display_name": "Python 3",
   "language": "python",
   "name": "python3"
  },
  "language_info": {
   "codemirror_mode": {
    "name": "ipython",
    "version": 3
   },
   "file_extension": ".py",
   "mimetype": "text/x-python",
   "name": "python",
   "nbconvert_exporter": "python",
   "pygments_lexer": "ipython3",
   "version": "3.7.1"
  }
 },
 "nbformat": 4,
 "nbformat_minor": 2
}
