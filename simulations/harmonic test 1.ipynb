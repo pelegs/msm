{
 "cells": [
  {
   "cell_type": "code",
   "execution_count": 1,
   "metadata": {},
   "outputs": [],
   "source": [
    "import numpy as np\n",
    "from scipy.special import erf\n",
    "import sys\n",
    "sys.path.append('../lib')\n",
    "from libsim import simulate, simulate_histogram"
   ]
  },
  {
   "cell_type": "code",
   "execution_count": 2,
   "metadata": {},
   "outputs": [],
   "source": [
    "import matplotlib\n",
    "import matplotlib.pyplot as plt\n",
    "%matplotlib inline"
   ]
  },
  {
   "cell_type": "code",
   "execution_count": 127,
   "metadata": {},
   "outputs": [],
   "source": [
    "name = 'harmonic_test'\n",
    "num_particles = 10000\n",
    "M = np.array([0]).astype(np.float64)\n",
    "S = np.array([0.5]).astype(np.float64)\n",
    "D = 1\n",
    "beta = 1\n",
    "dt = 0.001\n",
    "total_steps = 1500\n",
    "equilibration_time = 0\n",
    "x0 = 2.15\n",
    "x0s = np.ones(num_particles) * x0"
   ]
  },
  {
   "cell_type": "code",
   "execution_count": 128,
   "metadata": {},
   "outputs": [
    {
     "name": "stderr",
     "output_type": "stream",
     "text": [
      "100%|██████████| 1499/1499 [00:08<00:00, 184.14it/s]\n"
     ]
    }
   ],
   "source": [
    "xs = simulate(name,\n",
    "              num_particles,\n",
    "              random=0, x0s=x0s,\n",
    "              S=S, M=M,\n",
    "              D=D, beta=beta,\n",
    "              dt=dt, total_steps=total_steps, equilibration_time=equilibration_time,\n",
    "              )"
   ]
  },
  {
   "cell_type": "code",
   "execution_count": 129,
   "metadata": {},
   "outputs": [],
   "source": [
    "mean_xs = np.mean(xs, axis=1)\n",
    "var_xs = np.var(xs, axis=1)"
   ]
  },
  {
   "cell_type": "code",
   "execution_count": 130,
   "metadata": {},
   "outputs": [],
   "source": [
    "def mean(tau, dt=0.001, x0=1, D=1, s=1):\n",
    "    t = dt * tau\n",
    "    return x0*np.exp(-D*t/(s**2))\n",
    "\n",
    "def var(tau, dt=0.001, D=1, s=1):\n",
    "    t = dt * tau\n",
    "    return s**2*(1-np.exp(-2*D*t/s**2))"
   ]
  },
  {
   "cell_type": "code",
   "execution_count": 131,
   "metadata": {},
   "outputs": [
    {
     "data": {
      "text/plain": [
       "[<matplotlib.lines.Line2D at 0x7f1b3a87c9e8>]"
      ]
     },
     "execution_count": 131,
     "metadata": {},
     "output_type": "execute_result"
    },
    {
     "data": {
      "image/png": "[encoded data removed]",
      "text/plain": [
       "<Figure size 432x288 with 1 Axes>"
      ]
     },
     "metadata": {},
     "output_type": "display_data"
    }
   ],
   "source": [
    "ts = np.arange(0, total_steps, 1)\n",
    "s = S[0]\n",
    "plt.plot(ts, mean_xs)\n",
    "plt.plot(ts, mean(ts, dt, x0, D, s))\n",
    "plt.plot(ts, var_xs)\n",
    "plt.plot(ts, var(ts, dt, D, s))"
   ]
  },
  {
   "cell_type": "code",
   "execution_count": null,
   "metadata": {},
   "outputs": [],
   "source": []
  }
 ],
 "metadata": {
  "kernelspec": {
   "display_name": "Python 3",
   "language": "python",
   "name": "python3"
  },
  "language_info": {
   "codemirror_mode": {
    "name": "ipython",
    "version": 3
   },
   "file_extension": ".py",
   "mimetype": "text/x-python",
   "name": "python",
   "nbconvert_exporter": "python",
   "pygments_lexer": "ipython3",
   "version": "3.5.5"
  }
 },
 "nbformat": 4,
 "nbformat_minor": 2
}
