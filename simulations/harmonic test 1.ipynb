{
 "cells": [
  {
   "cell_type": "code",
   "execution_count": 1,
   "metadata": {},
   "outputs": [],
   "source": [
    "import numpy as np\n",
    "import sys\n",
    "sys.path.append('../lib')\n",
    "from libsim import simulate\n",
    "import matplotlib\n",
    "import matplotlib.pyplot as plt\n",
    "%matplotlib inline"
   ]
  },
  {
   "cell_type": "code",
   "execution_count": 12,
   "metadata": {},
   "outputs": [
    {
     "name": "stdout",
     "output_type": "stream",
     "text": [
      "S=1.8390931277543379, D=1.1217641487869927, beta=1.372512960512137, total steps=10000\n"
     ]
    }
   ],
   "source": [
    "name = 'harmonic_test'\n",
    "num_particles = 50000\n",
    "M = np.array([0]).astype(np.float64)\n",
    "S = np.array(np.random.uniform(0.75, 2.5, size=1)).astype(np.float64)\n",
    "D = np.random.uniform(0.5, 1.5)\n",
    "beta = np.random.uniform(1, 2.5)\n",
    "dt = 0.001\n",
    "total_steps = 10000\n",
    "equilibration_time = 0\n",
    "x0 = 2.15\n",
    "x0s = np.ones(num_particles) * x0\n",
    "\n",
    "print('S={}, D={}, beta={}, total steps={}'.format(S[0], D, beta, total_steps))"
   ]
  },
  {
   "cell_type": "code",
   "execution_count": 13,
   "metadata": {},
   "outputs": [
    {
     "name": "stderr",
     "output_type": "stream",
     "text": [
      "100%|██████████| 9999/9999 [04:09<00:00, 40.14it/s]\n"
     ]
    }
   ],
   "source": [
    "xs = simulate(num_particles,\n",
    "              random=0, x0s=x0s,\n",
    "              S=S, M=M,\n",
    "              D=D, beta=beta,\n",
    "              dt=dt, total_steps=total_steps, equilibration_time=equilibration_time,\n",
    "              )"
   ]
  },
  {
   "cell_type": "code",
   "execution_count": 14,
   "metadata": {},
   "outputs": [],
   "source": [
    "mean_xs = np.mean(xs, axis=1)\n",
    "var_xs = np.var(xs, axis=1)"
   ]
  },
  {
   "cell_type": "code",
   "execution_count": 15,
   "metadata": {},
   "outputs": [],
   "source": [
    "def mean(tau, dt=0.001, x0=1, D=1, s=1):\n",
    "    t = dt * tau\n",
    "    return x0*np.exp(-D*t/(s**2))\n",
    "\n",
    "def var(tau, dt=0.001, D=1, s=1):\n",
    "    t = dt * tau\n",
    "    return s**2*(1-np.exp(-2*D*t/s**2))"
   ]
  },
  {
   "cell_type": "code",
   "execution_count": 16,
   "metadata": {},
   "outputs": [
    {
     "data": {
      "text/plain": [
       "[<matplotlib.lines.Line2D at 0x7faa43460dd8>]"
      ]
     },
     "execution_count": 16,
     "metadata": {},
     "output_type": "execute_result"
    },
    {
     "data": {
      "image/png": "[encoded data removed]",
      "text/plain": [
       "<Figure size 432x288 with 1 Axes>"
      ]
     },
     "metadata": {},
     "output_type": "display_data"
    }
   ],
   "source": [
    "ts = np.arange(0, total_steps, 1)\n",
    "s = S[0]\n",
    "plt.plot(ts, mean_xs)\n",
    "plt.plot(ts, mean(ts, dt, x0, D, s))\n",
    "plt.plot(ts, var_xs)\n",
    "plt.plot(ts, var(ts, dt, D, s))"
   ]
  },
  {
   "cell_type": "code",
   "execution_count": null,
   "metadata": {},
   "outputs": [],
   "source": []
  }
 ],
 "metadata": {
  "kernelspec": {
   "display_name": "Python 3",
   "language": "python",
   "name": "python3"
  },
  "language_info": {
   "codemirror_mode": {
    "name": "ipython",
    "version": 3
   },
   "file_extension": ".py",
   "mimetype": "text/x-python",
   "name": "python",
   "nbconvert_exporter": "python",
   "pygments_lexer": "ipython3",
   "version": "3.5.5"
  }
 },
 "nbformat": 4,
 "nbformat_minor": 2
}
