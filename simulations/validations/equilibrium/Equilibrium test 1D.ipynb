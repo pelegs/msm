{
 "cells": [
  {
   "cell_type": "code",
   "execution_count": 1,
   "metadata": {},
   "outputs": [],
   "source": [
    "from pathlib import Path\n",
    "home = str(Path.home())\n",
    "import sys\n",
    "sys.path.append('{}/prog/msm/lib'.format(home))"
   ]
  },
  {
   "cell_type": "code",
   "execution_count": 2,
   "metadata": {},
   "outputs": [
    {
     "data": {
      "text/plain": [
       "<Figure size 432x288 with 0 Axes>"
      ]
     },
     "metadata": {},
     "output_type": "display_data"
    }
   ],
   "source": [
    "import numpy as np\n",
    "from simlib import *\n",
    "%matplotlib inline\n",
    "import matplotlib\n",
    "import matplotlib.pyplot as plt\n",
    "plt.set_cmap('rainbow')"
   ]
  },
  {
   "cell_type": "code",
   "execution_count": 14,
   "metadata": {},
   "outputs": [],
   "source": [
    "N = 2\n",
    "gaussians = []\n",
    "gaussians.append(gaussian(A=np.ones(1),\n",
    "                          M=np.array([-5]),\n",
    "                          S=np.ones(1)))\n",
    "gaussians.append(gaussian(A=np.ones(1),\n",
    "                          M=np.array([0]),\n",
    "                          S=np.array([.5])))\n",
    "gaussians.append(gaussian(A=np.ones(1),\n",
    "                          M=np.array([5]),\n",
    "                          S=np.ones(1)))"
   ]
  },
  {
   "cell_type": "code",
   "execution_count": 15,
   "metadata": {},
   "outputs": [
    {
     "data": {
      "text/plain": [
       "[<matplotlib.lines.Line2D at 0x7fa60e1d3898>]"
      ]
     },
     "execution_count": 15,
     "metadata": {},
     "output_type": "execute_result"
    },
    {
     "data": {
      "image/png": "[encoded data removed]",
      "text/plain": [
       "<Figure size 432x288 with 1 Axes>"
      ]
     },
     "metadata": {},
     "output_type": "display_data"
    }
   ],
   "source": [
    "bins = np.arange(-10,10,0.1)\n",
    "U = potential(gaussians)\n",
    "y = [U.get_value([x]) for x in bins]\n",
    "plt.plot(bins, y)"
   ]
  },
  {
   "cell_type": "code",
   "execution_count": 16,
   "metadata": {},
   "outputs": [],
   "source": [
    "M = 3\n",
    "x0 = 0.0\n",
    "parameters = {\n",
    "    'name': 'equilibrium_test',\n",
    "    'num_steps': 500000,\n",
    "    'num_dim': 1,\n",
    "    'num_particles': M,\n",
    "    'KBT': 1,\n",
    "    'Ddt': 0.01,\n",
    "    'x0': np.array([-5,0,5]),\n",
    "    'potential': U\n",
    "}"
   ]
  },
  {
   "cell_type": "code",
   "execution_count": 17,
   "metadata": {},
   "outputs": [
    {
     "data": {
      "application/vnd.jupyter.widget-view+json": {
       "model_id": "0363bbce43414ee9bcf0bdc696d86317",
       "version_major": 2,
       "version_minor": 0
      },
      "text/plain": [
       "HBox(children=(IntProgress(value=0, max=499999), HTML(value='')))"
      ]
     },
     "metadata": {},
     "output_type": "display_data"
    },
    {
     "name": "stdout",
     "output_type": "stream",
     "text": [
      "\n"
     ]
    }
   ],
   "source": [
    "Xs = simulate(parameters)"
   ]
  },
  {
   "cell_type": "code",
   "execution_count": 18,
   "metadata": {},
   "outputs": [
    {
     "data": {
      "image/png": "[encoded data removed]",
      "text/plain": [
       "<Figure size 432x288 with 1 Axes>"
      ]
     },
     "metadata": {},
     "output_type": "display_data"
    }
   ],
   "source": [
    "t = parameters['num_steps']\n",
    "n = parameters['num_particles']\n",
    "Xs_all = np.zeros(1)\n",
    "for i in range(M):\n",
    "    Xs_all = np.vstack((Xs_all, Xs[:,:,i]))\n",
    "_ = plt.hist(Xs_all, bins)"
   ]
  },
  {
   "cell_type": "code",
   "execution_count": null,
   "metadata": {},
   "outputs": [],
   "source": []
  }
 ],
 "metadata": {
  "kernelspec": {
   "display_name": "Python 3",
   "language": "python",
   "name": "python3"
  },
  "language_info": {
   "codemirror_mode": {
    "name": "ipython",
    "version": 3
   },
   "file_extension": ".py",
   "mimetype": "text/x-python",
   "name": "python",
   "nbconvert_exporter": "python",
   "pygments_lexer": "ipython3",
   "version": "3.6.5"
  }
 },
 "nbformat": 4,
 "nbformat_minor": 2
}
