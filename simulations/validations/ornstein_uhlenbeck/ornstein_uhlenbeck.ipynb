{
 "cells": [
  {
   "cell_type": "code",
   "execution_count": 1,
   "metadata": {},
   "outputs": [],
   "source": [
    "from pathlib import Path\n",
    "home = str(Path.home())\n",
    "import sys\n",
    "sys.path.append('{}/prog/msm/lib'.format(home))"
   ]
  },
  {
   "cell_type": "code",
   "execution_count": 2,
   "metadata": {},
   "outputs": [
    {
     "data": {
      "text/plain": [
       "<Figure size 432x288 with 0 Axes>"
      ]
     },
     "metadata": {},
     "output_type": "display_data"
    }
   ],
   "source": [
    "import numpy as np\n",
    "from simlib import *\n",
    "%matplotlib inline\n",
    "import matplotlib\n",
    "import matplotlib.pyplot as plt\n",
    "plt.set_cmap('rainbow')"
   ]
  },
  {
   "cell_type": "code",
   "execution_count": 35,
   "metadata": {},
   "outputs": [],
   "source": [
    "g = gaussian(A = np.ones(1),\n",
    "             M = np.zeros(1),\n",
    "             S = np.ones(1))\n",
    "N = 5000\n",
    "parameters = {\n",
    "    'name': 'equilibrium_test',\n",
    "    'num_steps': 200,\n",
    "    'num_dim': 1,\n",
    "    'num_particles': N,\n",
    "    'beta': np.random.uniform(2,4),\n",
    "    'Ddt': 0.01,\n",
    "    'x0': np.ones(N) * 1.5,\n",
    "    'potential': potential([g])\n",
    "}"
   ]
  },
  {
   "cell_type": "code",
   "execution_count": 36,
   "metadata": {},
   "outputs": [
    {
     "data": {
      "application/vnd.jupyter.widget-view+json": {
       "model_id": "842a868fa775403e8d6ee9d34c0523a9",
       "version_major": 2,
       "version_minor": 0
      },
      "text/plain": [
       "HBox(children=(IntProgress(value=0, max=199), HTML(value='')))"
      ]
     },
     "metadata": {},
     "output_type": "display_data"
    },
    {
     "name": "stdout",
     "output_type": "stream",
     "text": [
      "\n"
     ]
    }
   ],
   "source": [
    "Xs = simulate(parameters)"
   ]
  },
  {
   "cell_type": "code",
   "execution_count": 37,
   "metadata": {},
   "outputs": [],
   "source": [
    "num_steps = parameters['num_steps']\n",
    "mean = np.zeros(num_steps)\n",
    "var = np.zeros(num_steps)\n",
    "for t in range(num_steps):\n",
    "    mean[t] = np.mean(Xs[t,0,:])\n",
    "    var[t] = np.var(Xs[t,0,:])\n",
    "\n",
    "# Theory\n",
    "x0 = parameters['x0'][0]\n",
    "Ddt = parameters['Ddt']\n",
    "beta = parameters['beta']\n",
    "k = parameters['potential'].k\n",
    "mean_theory = x0 * np.exp(-1*beta*Ddt*k*range(num_steps))\n",
    "var_theory = 1/(beta*k) * (1-np.exp(-2*beta*Ddt*k*range(num_steps)))"
   ]
  },
  {
   "cell_type": "code",
   "execution_count": 38,
   "metadata": {},
   "outputs": [
    {
     "data": {
      "text/plain": [
       "[<matplotlib.lines.Line2D at 0x7f80857787f0>]"
      ]
     },
     "execution_count": 38,
     "metadata": {},
     "output_type": "execute_result"
    },
    {
     "data": {
      "image/png": "[encoded data removed]",
      "text/plain": [
       "<Figure size 432x288 with 1 Axes>"
      ]
     },
     "metadata": {},
     "output_type": "display_data"
    }
   ],
   "source": [
    "plt.plot(range(num_steps), mean)\n",
    "plt.plot(range(num_steps), mean_theory)\n",
    "plt.plot(range(num_steps), var)\n",
    "plt.plot(range(num_steps), var_theory)"
   ]
  },
  {
   "cell_type": "code",
   "execution_count": null,
   "metadata": {},
   "outputs": [],
   "source": []
  }
 ],
 "metadata": {
  "kernelspec": {
   "display_name": "Python 3",
   "language": "python",
   "name": "python3"
  },
  "language_info": {
   "codemirror_mode": {
    "name": "ipython",
    "version": 3
   },
   "file_extension": ".py",
   "mimetype": "text/x-python",
   "name": "python",
   "nbconvert_exporter": "python",
   "pygments_lexer": "ipython3",
   "version": "3.6.5"
  }
 },
 "nbformat": 4,
 "nbformat_minor": 2
}
