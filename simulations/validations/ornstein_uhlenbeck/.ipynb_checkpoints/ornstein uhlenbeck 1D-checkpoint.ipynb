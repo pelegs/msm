{
 "cells": [
  {
   "cell_type": "code",
   "execution_count": 1,
   "metadata": {},
   "outputs": [],
   "source": [
    "from pathlib import Path\n",
    "home = str(Path.home())\n",
    "import sys\n",
    "sys.path.append('{}/prog/msm/lib'.format(home))"
   ]
  },
  {
   "cell_type": "code",
   "execution_count": 2,
   "metadata": {},
   "outputs": [
    {
     "data": {
      "text/plain": [
       "<Figure size 432x288 with 0 Axes>"
      ]
     },
     "metadata": {},
     "output_type": "display_data"
    }
   ],
   "source": [
    "import numpy as np\n",
    "from simlib import *\n",
    "%matplotlib inline\n",
    "import matplotlib\n",
    "import matplotlib.pyplot as plt\n",
    "plt.set_cmap('rainbow')"
   ]
  },
  {
   "cell_type": "code",
   "execution_count": 35,
   "metadata": {},
   "outputs": [
    {
     "name": "stdout",
     "output_type": "stream",
     "text": [
      "[0.85709342]\n"
     ]
    }
   ],
   "source": [
    "s_ = np.random.uniform(0.25,1.25,1)\n",
    "print(s_)\n",
    "g = gaussian(A = np.ones(1),\n",
    "             M = np.zeros(1),\n",
    "             S = np.ones(1)*s_)\n",
    "N = 2500\n",
    "parameters = {\n",
    "    'name': 'equilibrium_test',\n",
    "    'num_steps': 250,\n",
    "    'num_dim': 1,\n",
    "    'num_particles': N,\n",
    "    'KBT': 1,\n",
    "    'Ddt': 0.01,\n",
    "    'x0': np.ones(N) * 1.5,\n",
    "    'potential': potential([g])\n",
    "}"
   ]
  },
  {
   "cell_type": "code",
   "execution_count": 36,
   "metadata": {},
   "outputs": [
    {
     "data": {
      "application/vnd.jupyter.widget-view+json": {
       "model_id": "6c2ee49c1eff42aa98cc53b5e45a3709",
       "version_major": 2,
       "version_minor": 0
      },
      "text/plain": [
       "HBox(children=(IntProgress(value=0, max=249), HTML(value='')))"
      ]
     },
     "metadata": {},
     "output_type": "display_data"
    },
    {
     "name": "stdout",
     "output_type": "stream",
     "text": [
      "\n"
     ]
    }
   ],
   "source": [
    "Xs = simulate(parameters)"
   ]
  },
  {
   "cell_type": "code",
   "execution_count": 37,
   "metadata": {},
   "outputs": [],
   "source": [
    "num_steps = parameters['num_steps']\n",
    "mean = np.zeros(num_steps)\n",
    "var = np.zeros(num_steps)\n",
    "for t in range(num_steps):\n",
    "    mean[t] = np.mean(Xs[t,0,:])\n",
    "    var[t] = np.var(Xs[t,0,:])\n",
    "\n",
    "# Theory\n",
    "x0 = parameters['x0'][0]\n",
    "Ddt = parameters['Ddt']\n",
    "beta = 1/parameters['KBT']\n",
    "V = parameters['potential'].gaussians[0].S[0]**2\n",
    "bk = 1/V\n",
    "mean_theory = x0 * np.exp(-1*Ddt*bk*range(num_steps))\n",
    "var_theory = 1/(bk) * (1-np.exp(-2*bk*Ddt*range(num_steps)))"
   ]
  },
  {
   "cell_type": "code",
   "execution_count": 38,
   "metadata": {},
   "outputs": [
    {
     "data": {
      "text/plain": [
       "[<matplotlib.lines.Line2D at 0x7f19c904dc88>]"
      ]
     },
     "execution_count": 38,
     "metadata": {},
     "output_type": "execute_result"
    },
    {
     "data": {
      "image/png": "[encoded data removed]",
      "text/plain": [
       "<Figure size 432x288 with 1 Axes>"
      ]
     },
     "metadata": {},
     "output_type": "display_data"
    }
   ],
   "source": [
    "plt.plot(range(num_steps), mean)\n",
    "plt.plot(range(num_steps), mean_theory)\n",
    "plt.plot(range(num_steps), var)\n",
    "plt.plot(range(num_steps), var_theory)"
   ]
  },
  {
   "cell_type": "code",
   "execution_count": null,
   "metadata": {},
   "outputs": [],
   "source": []
  }
 ],
 "metadata": {
  "kernelspec": {
   "display_name": "Python 3",
   "language": "python",
   "name": "python3"
  },
  "language_info": {
   "codemirror_mode": {
    "name": "ipython",
    "version": 3
   },
   "file_extension": ".py",
   "mimetype": "text/x-python",
   "name": "python",
   "nbconvert_exporter": "python",
   "pygments_lexer": "ipython3",
   "version": "3.6.5"
  }
 },
 "nbformat": 4,
 "nbformat_minor": 2
}
