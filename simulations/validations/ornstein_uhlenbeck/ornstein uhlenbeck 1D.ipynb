{
 "cells": [
  {
   "cell_type": "code",
   "execution_count": 3,
   "metadata": {},
   "outputs": [],
   "source": [
    "%matplotlib inline\n",
    "\n",
    "import sys\n",
    "sys.path.append('/home/psapir/prog/msm/lib')\n",
    "from simlib import *\n",
    "import numpy as np\n",
    "from scipy.stats import linregress\n",
    "\n",
    "import matplotlib\n",
    "import matplotlib.pyplot as plt"
   ]
  },
  {
   "cell_type": "code",
   "execution_count": 9,
   "metadata": {},
   "outputs": [],
   "source": [
    "def set_params(max_t, dt, x0, N, b, D):\n",
    "    g = gaussian(A = np.array([1]),\n",
    "                 M = np.array([0]),\n",
    "                 S = np.array([1]))\n",
    "    U = potential([g])\n",
    "    return {\n",
    "    'name': 'equilibrium_test',\n",
    "    'num_steps': int(max_t/dt),\n",
    "    'num_dim': 1,\n",
    "    'num_particles': N,\n",
    "    'KBT': 1/b,\n",
    "    'Ddt': D*dt,\n",
    "    'x0': np.ones(N) * x0,\n",
    "    'potential': U\n",
    "    }"
   ]
  },
  {
   "cell_type": "markdown",
   "metadata": {},
   "source": [
    "# Changing beta"
   ]
  },
  {
   "cell_type": "code",
   "execution_count": 3,
   "metadata": {},
   "outputs": [],
   "source": [
    "# Params\n",
    "x0 = 1.5\n",
    "dt = 0.01\n",
    "D = 1.0\n",
    "k = 1.0\n",
    "max_t = 10\n",
    "ts = np.arange(0, max_t, dt)\n",
    "num_steps = ts.shape[0]\n",
    "\n",
    "# Theory\n",
    "#mean_theory = x0 * np.exp(-1*D*b*k*ts)\n",
    "#var_theory = 1/(b*k) * (1-np.exp(-2*b*k*D*ts))"
   ]
  },
  {
   "cell_type": "code",
   "execution_count": 10,
   "metadata": {},
   "outputs": [
    {
     "data": {
      "application/vnd.jupyter.widget-view+json": {
       "model_id": "eb8dfc9cef264ea0ab69358bc3f4b870",
       "version_major": 2,
       "version_minor": 0
      },
      "text/plain": [
       "HBox(children=(IntProgress(value=0, max=999), HTML(value='')))"
      ]
     },
     "metadata": {},
     "output_type": "display_data"
    },
    {
     "data": {
      "application/vnd.jupyter.widget-view+json": {
       "model_id": "cd06febeebc444fb8647b90fa360ad62",
       "version_major": 2,
       "version_minor": 0
      },
      "text/plain": [
       "HBox(children=(IntProgress(value=0, max=999), HTML(value='')))"
      ]
     },
     "metadata": {},
     "output_type": "display_data"
    },
    {
     "data": {
      "application/vnd.jupyter.widget-view+json": {
       "model_id": "ba9da966cb0742b497f2690145f3df8e",
       "version_major": 2,
       "version_minor": 0
      },
      "text/plain": [
       "HBox(children=(IntProgress(value=0, max=999), HTML(value='')))"
      ]
     },
     "metadata": {},
     "output_type": "display_data"
    },
    {
     "data": {
      "application/vnd.jupyter.widget-view+json": {
       "model_id": "2ddec5db5f794c61b2c7a01e8fdb3429",
       "version_major": 2,
       "version_minor": 0
      },
      "text/plain": [
       "HBox(children=(IntProgress(value=0, max=999), HTML(value='')))"
      ]
     },
     "metadata": {},
     "output_type": "display_data"
    },
    {
     "data": {
      "application/vnd.jupyter.widget-view+json": {
       "model_id": "adfdf6f345bb4757912a2ab07cd1df5f",
       "version_major": 2,
       "version_minor": 0
      },
      "text/plain": [
       "HBox(children=(IntProgress(value=0, max=999), HTML(value='')))"
      ]
     },
     "metadata": {},
     "output_type": "display_data"
    },
    {
     "data": {
      "application/vnd.jupyter.widget-view+json": {
       "model_id": "b7ced5af36f24688ba79368a9c51b6fa",
       "version_major": 2,
       "version_minor": 0
      },
      "text/plain": [
       "HBox(children=(IntProgress(value=0, max=999), HTML(value='')))"
      ]
     },
     "metadata": {},
     "output_type": "display_data"
    }
   ],
   "source": [
    "betas = [0.5, 1.0, 1.5, 2.0, 2.5, 3.0]\n",
    "#Ds = [0.5, 1.0, 1.5, 2.0, 2.5, 3.0]\n",
    "means = np.zeros((num_steps, len(betas)))\n",
    "vars  = np.zeros((num_steps, len(betas)))\n",
    "for i, b in enumerate(betas):\n",
    "    params = set_params(max_t, dt, x0, 5000, b, D)\n",
    "    xs = simulate(params, notebook=True)\n",
    "    num_steps = ts.shape[0]\n",
    "    for t, _ in enumerate(ts):\n",
    "        means[t, i] = np.mean(xs[t,0,:])\n",
    "        vars[t, i] = np.var(xs[t,0,:])"
   ]
  },
  {
   "cell_type": "code",
   "execution_count": 12,
   "metadata": {},
   "outputs": [
    {
     "data": {
      "text/plain": [
       "[<matplotlib.lines.Line2D at 0x7f849402e7b8>,\n",
       " <matplotlib.lines.Line2D at 0x7f849402e978>,\n",
       " <matplotlib.lines.Line2D at 0x7f849402eac8>,\n",
       " <matplotlib.lines.Line2D at 0x7f849402ec18>,\n",
       " <matplotlib.lines.Line2D at 0x7f849402ed68>,\n",
       " <matplotlib.lines.Line2D at 0x7f849402eeb8>]"
      ]
     },
     "execution_count": 12,
     "metadata": {},
     "output_type": "execute_result"
    },
    {
     "data": {
      "image/png": "[encoded data removed]",
      "text/plain": [
       "<Figure size 432x288 with 1 Axes>"
      ]
     },
     "metadata": {},
     "output_type": "display_data"
    }
   ],
   "source": [
    "#plt.plot(ts, means)\n",
    "plt.plot(ts, vars)"
   ]
  },
  {
   "cell_type": "code",
   "execution_count": 13,
   "metadata": {},
   "outputs": [],
   "source": [
    "with open('data/ou.data', 'w') as f:\n",
    "    for t, ms, vs in zip(ts, means, vars):\n",
    "        m = ' '.join(map(str, ms))\n",
    "        v = ' '.join(map(str, vs))\n",
    "        f.write('{} {} {}\\n'.format(t, m, v))"
   ]
  },
  {
   "cell_type": "markdown",
   "metadata": {},
   "source": [
    "# Changing D"
   ]
  },
  {
   "cell_type": "code",
   "execution_count": 282,
   "metadata": {},
   "outputs": [],
   "source": [
    "# Params\n",
    "x0 = 1.5\n",
    "dt = 0.01\n",
    "b = 5.0\n",
    "k = 1.0\n",
    "max_t = 1\n",
    "ts = np.arange(0, max_t, dt)\n",
    "num_steps = ts.shape[0]"
   ]
  },
  {
   "cell_type": "code",
   "execution_count": 283,
   "metadata": {},
   "outputs": [
    {
     "name": "stdout",
     "output_type": "stream",
     "text": [
      "5.0\n"
     ]
    },
    {
     "data": {
      "application/vnd.jupyter.widget-view+json": {
       "model_id": "8d65b4e52d1d4c2590bd3f92902e1d64",
       "version_major": 2,
       "version_minor": 0
      },
      "text/plain": [
       "HBox(children=(IntProgress(value=0, max=99), HTML(value='')))"
      ]
     },
     "metadata": {},
     "output_type": "display_data"
    },
    {
     "name": "stdout",
     "output_type": "stream",
     "text": [
      "5.0\n"
     ]
    },
    {
     "data": {
      "application/vnd.jupyter.widget-view+json": {
       "model_id": "427c876725fb4dcba89642f84b62ed4f",
       "version_major": 2,
       "version_minor": 0
      },
      "text/plain": [
       "HBox(children=(IntProgress(value=0, max=99), HTML(value='')))"
      ]
     },
     "metadata": {},
     "output_type": "display_data"
    },
    {
     "name": "stdout",
     "output_type": "stream",
     "text": [
      "5.0\n"
     ]
    },
    {
     "data": {
      "application/vnd.jupyter.widget-view+json": {
       "model_id": "63d099abb0d042e7be98d44f8687c091",
       "version_major": 2,
       "version_minor": 0
      },
      "text/plain": [
       "HBox(children=(IntProgress(value=0, max=99), HTML(value='')))"
      ]
     },
     "metadata": {},
     "output_type": "display_data"
    },
    {
     "name": "stdout",
     "output_type": "stream",
     "text": [
      "5.0\n"
     ]
    },
    {
     "data": {
      "application/vnd.jupyter.widget-view+json": {
       "model_id": "94679769d32643a1973c5247fe58e78f",
       "version_major": 2,
       "version_minor": 0
      },
      "text/plain": [
       "HBox(children=(IntProgress(value=0, max=99), HTML(value='')))"
      ]
     },
     "metadata": {},
     "output_type": "display_data"
    },
    {
     "name": "stdout",
     "output_type": "stream",
     "text": [
      "5.0\n"
     ]
    },
    {
     "data": {
      "application/vnd.jupyter.widget-view+json": {
       "model_id": "308ec217b0e645b584b75364dbf29e55",
       "version_major": 2,
       "version_minor": 0
      },
      "text/plain": [
       "HBox(children=(IntProgress(value=0, max=99), HTML(value='')))"
      ]
     },
     "metadata": {},
     "output_type": "display_data"
    },
    {
     "name": "stdout",
     "output_type": "stream",
     "text": [
      "5.0\n"
     ]
    },
    {
     "data": {
      "application/vnd.jupyter.widget-view+json": {
       "model_id": "6336cbdaaeaf44d09eae502b59ec02fc",
       "version_major": 2,
       "version_minor": 0
      },
      "text/plain": [
       "HBox(children=(IntProgress(value=0, max=99), HTML(value='')))"
      ]
     },
     "metadata": {},
     "output_type": "display_data"
    }
   ],
   "source": [
    "Ds = [0.5, 1.0, 1.5, 2.0, 2.5, 3.0]\n",
    "means = np.zeros((num_steps, len(betas)))\n",
    "vars  = np.zeros((num_steps, len(betas)))\n",
    "for i, D in enumerate(Ds):\n",
    "    params = set_params(max_t, dt, x0, 5000, b, D)\n",
    "    xs = simulate(params, notebook=True)\n",
    "    num_steps = ts.shape[0]\n",
    "    for t, _ in enumerate(ts):\n",
    "        means[t, i] = np.mean(xs[t,0,:])\n",
    "        vars[t, i] = np.var(xs[t,0,:])"
   ]
  },
  {
   "cell_type": "code",
   "execution_count": 284,
   "metadata": {},
   "outputs": [],
   "source": [
    "with open('data/ou_D.data', 'w') as f:\n",
    "    for t, ms, vs in zip(ts, means, vars):\n",
    "        m = ' '.join(map(str, ms))\n",
    "        v = ' '.join(map(str, vs))\n",
    "        f.write('{} {} {}\\n'.format(t, m, v))"
   ]
  },
  {
   "cell_type": "markdown",
   "metadata": {},
   "source": [
    "# RMSD"
   ]
  },
  {
   "cell_type": "code",
   "execution_count": 4,
   "metadata": {},
   "outputs": [],
   "source": [
    "from sklearn.metrics import mean_squared_error"
   ]
  },
  {
   "cell_type": "code",
   "execution_count": 7,
   "metadata": {},
   "outputs": [],
   "source": [
    "g = gaussian(A = np.array([1]),\n",
    "             M = np.array([0]),\n",
    "             S = np.array([1]))\n",
    "U = potential([g])"
   ]
  },
  {
   "cell_type": "code",
   "execution_count": 77,
   "metadata": {},
   "outputs": [],
   "source": [
    "#Ns = np.array([10, 50, 100, 500, 1000, 5000, 10000, 50000, 100000])\n",
    "Ns = np.array([10, 50, 100, 500, 1000, 5000, 10000])\n",
    "num_steps = 500\n",
    "parameters = {\n",
    "    'name': 'OU_RMSD',\n",
    "    'num_steps': num_steps,\n",
    "    'num_dim': 1,\n",
    "    'num_particles': 1,\n",
    "    'KBT': 1,\n",
    "    'Ddt': 0.01,\n",
    "    'x0': 1.5, \n",
    "    'potential': U\n",
    "}"
   ]
  },
  {
   "cell_type": "code",
   "execution_count": 78,
   "metadata": {},
   "outputs": [],
   "source": [
    "means_sim = np.zeros((Ns.shape[0], num_steps))\n",
    "vars_sim = np.zeros((Ns.shape[0], num_steps))"
   ]
  },
  {
   "cell_type": "code",
   "execution_count": 79,
   "metadata": {},
   "outputs": [],
   "source": [
    "def kinetics(x0, k, num_steps):\n",
    "    ts = np.arange(0, num_steps*0.01, 0.01)\n",
    "    mean = x0 * np.exp(-k*ts)\n",
    "    var = 1/k * (1-exp(-2*k*ts))\n",
    "    return ts, mean, var"
   ]
  },
  {
   "cell_type": "code",
   "execution_count": 80,
   "metadata": {},
   "outputs": [
    {
     "data": {
      "text/plain": [
       "[<matplotlib.lines.Line2D at 0x7f46d40c4f60>]"
      ]
     },
     "execution_count": 80,
     "metadata": {},
     "output_type": "execute_result"
    },
    {
     "data": {
      "image/png": "[encoded data removed]",
      "text/plain": [
       "<Figure size 432x288 with 1 Axes>"
      ]
     },
     "metadata": {},
     "output_type": "display_data"
    }
   ],
   "source": [
    "ts, mean, var = kinetics(1.5, 1, num_steps)\n",
    "plt.plot(ts, mean)\n",
    "plt.plot(ts, var)"
   ]
  },
  {
   "cell_type": "code",
   "execution_count": 81,
   "metadata": {},
   "outputs": [
    {
     "data": {
      "application/vnd.jupyter.widget-view+json": {
       "model_id": "260082bae99e46ceafd12b4e55fd272e",
       "version_major": 2,
       "version_minor": 0
      },
      "text/plain": [
       "HBox(children=(IntProgress(value=0, max=499), HTML(value='')))"
      ]
     },
     "metadata": {},
     "output_type": "display_data"
    },
    {
     "data": {
      "application/vnd.jupyter.widget-view+json": {
       "model_id": "447ae49675334b4e83e2baf998c98623",
       "version_major": 2,
       "version_minor": 0
      },
      "text/plain": [
       "HBox(children=(IntProgress(value=0, max=499), HTML(value='')))"
      ]
     },
     "metadata": {},
     "output_type": "display_data"
    },
    {
     "data": {
      "application/vnd.jupyter.widget-view+json": {
       "model_id": "5f767a52ad9049008bd955e3c8e9c65c",
       "version_major": 2,
       "version_minor": 0
      },
      "text/plain": [
       "HBox(children=(IntProgress(value=0, max=499), HTML(value='')))"
      ]
     },
     "metadata": {},
     "output_type": "display_data"
    },
    {
     "data": {
      "application/vnd.jupyter.widget-view+json": {
       "model_id": "bfe8f1233df349edbd9afaca57a1af3c",
       "version_major": 2,
       "version_minor": 0
      },
      "text/plain": [
       "HBox(children=(IntProgress(value=0, max=499), HTML(value='')))"
      ]
     },
     "metadata": {},
     "output_type": "display_data"
    },
    {
     "data": {
      "application/vnd.jupyter.widget-view+json": {
       "model_id": "7b2affe83f3b406ba7f4890e0e15878f",
       "version_major": 2,
       "version_minor": 0
      },
      "text/plain": [
       "HBox(children=(IntProgress(value=0, max=499), HTML(value='')))"
      ]
     },
     "metadata": {},
     "output_type": "display_data"
    },
    {
     "data": {
      "application/vnd.jupyter.widget-view+json": {
       "model_id": "d6064113ba494971a5b5183d570a7bdc",
       "version_major": 2,
       "version_minor": 0
      },
      "text/plain": [
       "HBox(children=(IntProgress(value=0, max=499), HTML(value='')))"
      ]
     },
     "metadata": {},
     "output_type": "display_data"
    },
    {
     "data": {
      "application/vnd.jupyter.widget-view+json": {
       "model_id": "7684d157a8ff49fa9fc6b2a4e07c320a",
       "version_major": 2,
       "version_minor": 0
      },
      "text/plain": [
       "HBox(children=(IntProgress(value=0, max=499), HTML(value='')))"
      ]
     },
     "metadata": {},
     "output_type": "display_data"
    }
   ],
   "source": [
    "for i, N in enumerate(Ns):\n",
    "    parameters['num_particles'] = N\n",
    "    xs = simulate(params=parameters, notebook=True).reshape((num_steps, N))\n",
    "    means_sim[i] = np.mean(xs, axis=1)\n",
    "    vars_sim[i] = np.var(xs, axis=1)"
   ]
  },
  {
   "cell_type": "code",
   "execution_count": 83,
   "metadata": {},
   "outputs": [],
   "source": [
    "RMSD_means = np.zeros(Ns.shape[0])\n",
    "RMSD_vars  = np.zeros(Ns.shape[0])\n",
    "for i in range(Ns.shape[0]):\n",
    "    RMSD_means[i] = mean_squared_error(means_sim[i], mean)\n",
    "    RMSD_vars[i] = mean_squared_error(vars_sim[i], var)"
   ]
  },
  {
   "cell_type": "code",
   "execution_count": 85,
   "metadata": {},
   "outputs": [
    {
     "data": {
      "text/plain": [
       "[<matplotlib.lines.Line2D at 0x7f46cfeca1d0>]"
      ]
     },
     "execution_count": 85,
     "metadata": {},
     "output_type": "execute_result"
    },
    {
     "data": {
      "image/png": "[encoded data removed]",
      "text/plain": [
       "<Figure size 432x288 with 1 Axes>"
      ]
     },
     "metadata": {},
     "output_type": "display_data"
    }
   ],
   "source": [
    "plt.plot(RMSD_means)\n",
    "plt.plot(RMSD_vars)"
   ]
  },
  {
   "cell_type": "code",
   "execution_count": null,
   "metadata": {},
   "outputs": [],
   "source": []
  }
 ],
 "metadata": {
  "kernelspec": {
   "display_name": "Python 3",
   "language": "python",
   "name": "python3"
  },
  "language_info": {
   "codemirror_mode": {
    "name": "ipython",
    "version": 3
   },
   "file_extension": ".py",
   "mimetype": "text/x-python",
   "name": "python",
   "nbconvert_exporter": "python",
   "pygments_lexer": "ipython3",
   "version": "3.6.5"
  }
 },
 "nbformat": 4,
 "nbformat_minor": 2
}
