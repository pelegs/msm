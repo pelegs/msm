{
 "cells": [
  {
   "cell_type": "code",
   "execution_count": 1,
   "metadata": {},
   "outputs": [],
   "source": [
    "from pathlib import Path\n",
    "home = str(Path.home())\n",
    "import sys\n",
    "sys.path.append('{}/prog/msm/lib'.format(home))"
   ]
  },
  {
   "cell_type": "code",
   "execution_count": 2,
   "metadata": {},
   "outputs": [
    {
     "data": {
      "text/plain": [
       "<Figure size 432x288 with 0 Axes>"
      ]
     },
     "metadata": {},
     "output_type": "display_data"
    }
   ],
   "source": [
    "import numpy as np\n",
    "from simlib import *\n",
    "%matplotlib inline\n",
    "import matplotlib\n",
    "import matplotlib.pyplot as plt\n",
    "plt.set_cmap('rainbow')"
   ]
  },
  {
   "cell_type": "code",
   "execution_count": 51,
   "metadata": {},
   "outputs": [],
   "source": [
    "gaussians = []\n",
    "m = 4.23454\n",
    "gaussians.append(gaussian(A = np.ones(1),\n",
    "                          M = np.array([-m]),\n",
    "                          S = np.ones(1)))\n",
    "gaussians.append(gaussian(A = np.ones(1),\n",
    "                          M = np.array([m]),\n",
    "                          S = np.ones(1)))"
   ]
  },
  {
   "cell_type": "code",
   "execution_count": 52,
   "metadata": {},
   "outputs": [],
   "source": [
    "U = potential(gaussians)"
   ]
  },
  {
   "cell_type": "code",
   "execution_count": 53,
   "metadata": {},
   "outputs": [],
   "source": [
    "xs = np.arange(-10, 10, 0.01)\n",
    "ys = np.array([U.get_value([x]) for x in xs])"
   ]
  },
  {
   "cell_type": "code",
   "execution_count": 74,
   "metadata": {},
   "outputs": [],
   "source": [
    "def is_transition(U, m, sign, x):\n",
    "    cond_energy1 = U.get_value([x]) <= U.get_value([0]) - 4\n",
    "    if sign < 0:\n",
    "        cond_sign = x >= 0\n",
    "        cond_energy2 = x >= m\n",
    "    else:\n",
    "        cond_sign = x <= 0\n",
    "        cond_energy2 = x <= -m\n",
    "    return (cond_sign and cond_energy1) or cond_energy2"
   ]
  },
  {
   "cell_type": "code",
   "execution_count": 75,
   "metadata": {},
   "outputs": [],
   "source": [
    "cond_minus = np.zeros(xs.shape[0])\n",
    "cond_plus = np.zeros(xs.shape[0])\n",
    "for i, x in enumerate(xs):\n",
    "    if is_transition(U, m, -1, x):\n",
    "        cond_minus[i] = U.get_value([x])\n",
    "        cond_plus[i] = np.nan\n",
    "    elif is_transition(U, m, 1, x):\n",
    "        cond_minus[i] = np.nan\n",
    "        cond_plus[i] = U.get_value([x])\n",
    "    else:\n",
    "        cond_minus[i] = np.nan\n",
    "        cond_plus[i] = np.nan"
   ]
  },
  {
   "cell_type": "code",
   "execution_count": 76,
   "metadata": {},
   "outputs": [
    {
     "data": {
      "text/plain": [
       "[<matplotlib.lines.Line2D at 0x7f303d422dd8>]"
      ]
     },
     "execution_count": 76,
     "metadata": {},
     "output_type": "execute_result"
    },
    {
     "data": {
      "image/png": "[encoded data removed]",
      "text/plain": [
       "<Figure size 432x288 with 1 Axes>"
      ]
     },
     "metadata": {},
     "output_type": "display_data"
    }
   ],
   "source": [
    "plt.plot(xs, ys, 'green')\n",
    "plt.plot(xs, cond_minus, 'red')\n",
    "plt.plot(xs, cond_plus, 'blue')"
   ]
  },
  {
   "cell_type": "code",
   "execution_count": null,
   "metadata": {},
   "outputs": [],
   "source": []
  },
  {
   "cell_type": "code",
   "execution_count": null,
   "metadata": {},
   "outputs": [],
   "source": []
  }
 ],
 "metadata": {
  "kernelspec": {
   "display_name": "Python 3",
   "language": "python",
   "name": "python3"
  },
  "language_info": {
   "codemirror_mode": {
    "name": "ipython",
    "version": 3
   },
   "file_extension": ".py",
   "mimetype": "text/x-python",
   "name": "python",
   "nbconvert_exporter": "python",
   "pygments_lexer": "ipython3",
   "version": "3.6.5"
  }
 },
 "nbformat": 4,
 "nbformat_minor": 2
}
