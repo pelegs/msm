{
 "cells": [
  {
   "cell_type": "code",
   "execution_count": 1,
   "metadata": {},
   "outputs": [
    {
     "data": {
      "text/plain": [
       "<Figure size 432x288 with 0 Axes>"
      ]
     },
     "metadata": {},
     "output_type": "display_data"
    }
   ],
   "source": [
    "import numpy as np\n",
    "%matplotlib inline\n",
    "import matplotlib\n",
    "import matplotlib.pyplot as plt\n",
    "plt.set_cmap('rainbow')\n",
    "from kramers import *"
   ]
  },
  {
   "cell_type": "code",
   "execution_count": 5,
   "metadata": {},
   "outputs": [],
   "source": [
    "def k_theory(a):\n",
    "    return 1/np.pi * np.exp(-1.0/(4.0*a))"
   ]
  },
  {
   "cell_type": "code",
   "execution_count": 3,
   "metadata": {},
   "outputs": [
    {
     "name": "stdout",
     "output_type": "stream",
     "text": [
      "a=0.599, trans=100\n"
     ]
    }
   ],
   "source": [
    "a_s = np.linspace(0.02, 0.05, 20)\n",
    "k_means = np.zeros(a_s.shape[0])\n",
    "k_vars = np.zeros(a_s.shape[0])\n",
    "for i, a in enumerate(a_s):\n",
    "    num_particles = 100\n",
    "    num_steps = 10000\n",
    "    U = potential(a)\n",
    "    \n",
    "    params = {\n",
    "        'num_steps': num_steps,\n",
    "        'num_dim': 1,\n",
    "        'num_particles': num_particles,\n",
    "        'KBT': 1.0,\n",
    "        'Ddt': 0.01,\n",
    "        'potential': U,\n",
    "        'KT_diff': 1,\n",
    "        'x0': -U.x_min,\n",
    "    }\n",
    "    \n",
    "    k_means[i], k_vars[i] = simulate_transitions_1D_no_memory(params, num_trans=100)\n",
    "print('')"
   ]
  },
  {
   "cell_type": "code",
   "execution_count": 14,
   "metadata": {},
   "outputs": [
    {
     "data": {
      "text/plain": [
       "[<matplotlib.lines.Line2D at 0x7f6a8ebb6080>]"
      ]
     },
     "execution_count": 14,
     "metadata": {},
     "output_type": "execute_result"
    },
    {
     "data": {
      "image/png": "[encoded data removed]",
      "text/plain": [
       "<Figure size 432x288 with 1 Axes>"
      ]
     },
     "metadata": {},
     "output_type": "display_data"
    }
   ],
   "source": [
    "plt.plot(a_s, k_theory(a_s), '.')"
   ]
  },
  {
   "cell_type": "code",
   "execution_count": null,
   "metadata": {},
   "outputs": [],
   "source": []
  }
 ],
 "metadata": {
  "kernelspec": {
   "display_name": "Python 3",
   "language": "python",
   "name": "python3"
  },
  "language_info": {
   "codemirror_mode": {
    "name": "ipython",
    "version": 3
   },
   "file_extension": ".py",
   "mimetype": "text/x-python",
   "name": "python",
   "nbconvert_exporter": "python",
   "pygments_lexer": "ipython3",
   "version": "3.6.5"
  }
 },
 "nbformat": 4,
 "nbformat_minor": 2
}
