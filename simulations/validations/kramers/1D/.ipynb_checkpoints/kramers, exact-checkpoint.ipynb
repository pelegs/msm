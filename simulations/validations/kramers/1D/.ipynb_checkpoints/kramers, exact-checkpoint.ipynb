{
 "cells": [
  {
   "cell_type": "code",
   "execution_count": 1,
   "metadata": {},
   "outputs": [
    {
     "data": {
      "text/plain": [
       "<Figure size 432x288 with 0 Axes>"
      ]
     },
     "metadata": {},
     "output_type": "display_data"
    }
   ],
   "source": [
    "from pathlib import Path\n",
    "home = str(Path.home())\n",
    "import sys\n",
    "sys.path.append('{}/prog/msm/lib'.format(home))\n",
    "\n",
    "import numpy as np\n",
    "from numpy import sqrt, exp, log, cosh, tanh, pi\n",
    "from simlib import *\n",
    "%matplotlib inline\n",
    "import matplotlib\n",
    "import matplotlib.pyplot as plt\n",
    "plt.set_cmap('rainbow')"
   ]
  },
  {
   "cell_type": "code",
   "execution_count": 15,
   "metadata": {},
   "outputs": [
    {
     "name": "stdout",
     "output_type": "stream",
     "text": [
      "m=3.90: 15 (of 15), t=362620"
     ]
    }
   ],
   "source": [
    "ms = np.arange(2, 4, 0.1)\n",
    "dE = np.zeros(ms.shape[0])\n",
    "mean_ks = np.zeros(ms.shape[0])\n",
    "err_mins = np.zeros(ms.shape[0])\n",
    "err_maxs = np.zeros(ms.shape[0])\n",
    "for i, m in enumerate(ms):\n",
    "    # Potential\n",
    "    gaussians = []\n",
    "    gaussians.append(gaussian(A=np.ones(1),\n",
    "                              M=np.array([-m]),\n",
    "                              S=np.ones(1)))\n",
    "    gaussians.append(gaussian(A=np.ones(1),\n",
    "                              M=np.array([m]),\n",
    "                              S=np.ones(1)))\n",
    "    U = potential(gaussians)\n",
    "\n",
    "    # Parameters\n",
    "    parameters = {\n",
    "        'name': 'kramers_test',\n",
    "        'num_steps': 1000000,\n",
    "        'num_dim': 1,\n",
    "        'num_particles': 1,\n",
    "        'KBT': 1,\n",
    "        'Ddt': 0.01,\n",
    "        'x0': np.array([[m]]),\n",
    "        'potential': U\n",
    "    }\n",
    "\n",
    "    dE[i] = U.get_value([0]) - U.get_value([m])\n",
    "    \n",
    "    # Simulation\n",
    "    num_trans = int(1000/m**2)\n",
    "    Xs, mean_ks[i], err_mins[i], err_maxs[i] = simulate_transitions(parameters, num_trans=15)"
   ]
  },
  {
   "cell_type": "code",
   "execution_count": 14,
   "metadata": {},
   "outputs": [
    {
     "data": {
      "text/plain": [
       "[<matplotlib.lines.Line2D at 0x7fdba54dfef0>]"
      ]
     },
     "execution_count": 14,
     "metadata": {},
     "output_type": "execute_result"
    },
    {
     "data": {
      "image/png": "[encoded data removed]",
      "text/plain": [
       "<Figure size 432x288 with 1 Axes>"
      ]
     },
     "metadata": {},
     "output_type": "display_data"
    }
   ],
   "source": [
    "plt.plot(ms, dE)"
   ]
  },
  {
   "cell_type": "code",
   "execution_count": 17,
   "metadata": {},
   "outputs": [],
   "source": [
    "def U(x, m, s):\n",
    "    return -log(exp(-(m-x)**2/(2*s**2)) + exp(-(m+x)**2/(2*s**2)))\n",
    "\n",
    "def dU(x, m, s):\n",
    "    return 1/s**2 * (x-m*tanh(x*m/s**2))\n",
    "\n",
    "def d2U(x, m, s):\n",
    "    return 1/s**2 - (m/(s**2*cosh(m*x/s**2)))**2\n",
    "\n",
    "def rate_theory(m, s):\n",
    "    dE = -log(2) + m**2/2 + log(1+exp(-2*m**2/2))\n",
    "    a = d2U(m, m, s)\n",
    "    b = abs(d2U(0, m, s))\n",
    "    return sqrt(a*b)/(2*pi) * exp(-dE)"
   ]
  },
  {
   "cell_type": "code",
   "execution_count": 18,
   "metadata": {},
   "outputs": [
    {
     "data": {
      "text/plain": [
       "[<matplotlib.lines.Line2D at 0x7fdba4867198>]"
      ]
     },
     "execution_count": 18,
     "metadata": {},
     "output_type": "execute_result"
    },
    {
     "data": {
      "image/png": "[encoded data removed]",
      "text/plain": [
       "<Figure size 432x288 with 1 Axes>"
      ]
     },
     "metadata": {},
     "output_type": "display_data"
    }
   ],
   "source": [
    "plt.errorbar(ms, mean_ks, yerr=(err_maxs-err_mins), fmt='.')\n",
    "plt.plot(ms, rate_theory(ms, 1))"
   ]
  },
  {
   "cell_type": "code",
   "execution_count": null,
   "metadata": {},
   "outputs": [],
   "source": []
  }
 ],
 "metadata": {
  "kernelspec": {
   "display_name": "Python 3",
   "language": "python",
   "name": "python3"
  },
  "language_info": {
   "codemirror_mode": {
    "name": "ipython",
    "version": 3
   },
   "file_extension": ".py",
   "mimetype": "text/x-python",
   "name": "python",
   "nbconvert_exporter": "python",
   "pygments_lexer": "ipython3",
   "version": "3.6.5"
  }
 },
 "nbformat": 4,
 "nbformat_minor": 2
}
