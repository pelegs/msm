{
 "cells": [
  {
   "cell_type": "code",
   "execution_count": 16,
   "metadata": {},
   "outputs": [],
   "source": [
    "%matplotlib inline\n",
    "import matplotlib\n",
    "import matplotlib.pyplot as plt\n",
    "import numpy as np\n",
    "from sympy import *\n",
    "from tqdm import tqdm_notebook\n",
    "import pyemma"
   ]
  },
  {
   "cell_type": "code",
   "execution_count": 17,
   "metadata": {},
   "outputs": [],
   "source": [
    "# Symbols\n",
    "x = symbols('x')\n",
    "m = symbols('mu')\n",
    "s = symbols('sigma')\n",
    "\n",
    "# Potential\n",
    "U = -log(exp(-(x-m)**2/(2*s**2)) + exp(-(x+m)**2/(2*s**2)))\n",
    "\n",
    "# Brownian Dynamics Parameters\n",
    "KT = symbols('k_{B}T')\n",
    "Ddt = symbols('Ddt')\n",
    "R = symbols('R')\n",
    "\n",
    "# Other Parameters\n",
    "steps = 1000\n",
    "dt = 0.01\n",
    "\n",
    "# Forces\n",
    "F1 = simplify(-diff(U, x))*Ddt/KT\n",
    "F2 = sqrt(2*Ddt)*R\n",
    "F = F1 + F2"
   ]
  },
  {
   "cell_type": "code",
   "execution_count": 3,
   "metadata": {},
   "outputs": [],
   "source": [
    "def sim(m_val):\n",
    "    # Substitute Actuall Values into F\n",
    "    F_val = F.subs(m, m_val).subs(s, 1).subs(KT, 1).subs(Ddt, 0.01)\n",
    "    \n",
    "    # Time array\n",
    "    ts = np.arange(0, steps, dt)\n",
    "    \n",
    "    # Positions array\n",
    "    xs = np.zeros(ts.shape[0])\n",
    "    \n",
    "    # Randomness array\n",
    "    rs = np.random.normal(0, 1, size=ts.shape[0])\n",
    "    \n",
    "    # Simulation\n",
    "    for i, t in enumerate(tqdm_notebook(ts)):\n",
    "        xs[i] = xs[i-1] + F_val.subs(x, xs[i-1]).subs(R, rs[i]).evalf()\n",
    "    return xs"
   ]
  },
  {
   "cell_type": "code",
   "execution_count": 30,
   "metadata": {},
   "outputs": [],
   "source": [
    "def kramers(U, M, S, dt):\n",
    "    U_ = U.subs(m, M).subs(s, S)\n",
    "    U0 = U_.subs(x, 0)\n",
    "    Um = U_.subs(x, M)\n",
    "    dE = U0-Um\n",
    "    U_1 = diff(U, x)\n",
    "    U_2 = diff(U_1, x)\n",
    "    Wa = sqrt(U_2.subs(x, M).subs(m, M).subs(s, S))\n",
    "    Wb = sqrt(abs(U_2.subs(x, 0).subs(m, M).subs(s, S)))\n",
    "    k = 2*pi/(Wa*Wb*dt)*exp(dE)\n",
    "    return k.evalf()"
   ]
  },
  {
   "cell_type": "code",
   "execution_count": null,
   "metadata": {},
   "outputs": [],
   "source": [
    "Ms = np.arange(1.5, 3.5, 0.5)\n",
    "means = np.zeros(Ms.shape[0])\n",
    "for i, m_val in enumerate(Ms):\n",
    "    data = sim(m_val)\n",
    "    cluster_centers = np.array([[-m_val],[m_val]])\n",
    "    cluster_dtrajs = pyemma.coordinates.assign_to_centers(data, cluster_centers)\n",
    "    its = pyemma.msm.its(cluster_dtrajs, lags=np.linspace(1, 5000, 20).astype(int), nits=1, errors='bayes')\n",
    "    LAG = 600\n",
    "    bayesian_msm = pyemma.msm.bayesian_markov_model(cluster_dtrajs, lag=LAG, conf=0.95)\n",
    "    sample_mean = bayesian_msm.sample_mean('timescales', k=1)\n",
    "    means[i] = sample_mean"
   ]
  },
  {
   "cell_type": "code",
   "execution_count": 14,
   "metadata": {},
   "outputs": [],
   "source": [
    "with open('../data/kr_all.data', 'r') as f:\n",
    "    means = np.loadtxt(f)"
   ]
  },
  {
   "cell_type": "code",
   "execution_count": 48,
   "metadata": {},
   "outputs": [
    {
     "data": {
      "text/plain": [
       "[<matplotlib.lines.Line2D at 0x7f29479fee48>]"
      ]
     },
     "execution_count": 48,
     "metadata": {},
     "output_type": "execute_result"
    },
    {
     "data": {
      "image/png": "[encoded data removed]",
      "text/plain": [
       "<Figure size 432x288 with 1 Axes>"
      ]
     },
     "metadata": {},
     "output_type": "display_data"
    }
   ],
   "source": [
    "ms = means[:,0]\n",
    "ks = np.array([kramers(U, mm, 1, 0.01) for mm in ms])\n",
    "plt.plot(ms, means[:,1:], 'red')\n",
    "plt.plot(ms, ks)"
   ]
  },
  {
   "cell_type": "code",
   "execution_count": null,
   "metadata": {},
   "outputs": [],
   "source": []
  }
 ],
 "metadata": {
  "kernelspec": {
   "display_name": "Python 3",
   "language": "python",
   "name": "python3"
  },
  "language_info": {
   "codemirror_mode": {
    "name": "ipython",
    "version": 3
   },
   "file_extension": ".py",
   "mimetype": "text/x-python",
   "name": "python",
   "nbconvert_exporter": "python",
   "pygments_lexer": "ipython3",
   "version": "3.6.5"
  }
 },
 "nbformat": 4,
 "nbformat_minor": 2
}
