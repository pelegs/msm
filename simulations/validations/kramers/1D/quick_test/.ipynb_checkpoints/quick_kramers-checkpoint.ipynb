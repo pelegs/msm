{
 "cells": [
  {
   "cell_type": "code",
   "execution_count": 1,
   "metadata": {},
   "outputs": [],
   "source": [
    "%matplotlib inline\n",
    "import matplotlib\n",
    "import matplotlib.pyplot as plt\n",
    "import numpy as np\n",
    "from sympy import *\n",
    "from tqdm import tqdm_notebook\n",
    "import pyemma"
   ]
  },
  {
   "cell_type": "code",
   "execution_count": 2,
   "metadata": {},
   "outputs": [
    {
     "name": "stderr",
     "output_type": "stream",
     "text": [
      "/home/psapir/anaconda3/lib/python3.6/site-packages/pyemma/__init__.py:130: UserWarning: You are not using the latest release of PyEMMA. Latest is 2.5.6, you have 2.5.4.\n",
      "  .format(latest=latest, current=current), category=UserWarning)\n"
     ]
    }
   ],
   "source": [
    "# Symbols\n",
    "x = symbols('x')\n",
    "m = symbols('mu')\n",
    "s = symbols('sigma')\n",
    "\n",
    "# Potential\n",
    "U = -log(exp(-(x-m)**2/(2*s**2)) + exp(-(x+m)**2/(2*s**2)))\n",
    "\n",
    "# Brownian Dynamics Parameters\n",
    "KT = symbols('k_{B}T')\n",
    "Ddt = symbols('Ddt')\n",
    "R = symbols('R')\n",
    "\n",
    "# Other Parameters\n",
    "steps = 1000\n",
    "dt = 0.01\n",
    "\n",
    "# Forces\n",
    "F1 = simplify(-diff(U, x))*Ddt/KT\n",
    "F2 = sqrt(2*Ddt)*R\n",
    "F = F1 + F2"
   ]
  },
  {
   "cell_type": "code",
   "execution_count": 3,
   "metadata": {},
   "outputs": [],
   "source": [
    "def sim(m_val):\n",
    "    # Substitute Actuall Values into F\n",
    "    F_val = F.subs(m, m_val).subs(s, 1).subs(KT, 1).subs(Ddt, 0.01)\n",
    "    \n",
    "    # Time array\n",
    "    ts = np.arange(0, steps, dt)\n",
    "    \n",
    "    # Positions array\n",
    "    xs = np.zeros(ts.shape[0])\n",
    "    \n",
    "    # Randomness array\n",
    "    rs = np.random.normal(0, 1, size=ts.shape[0])\n",
    "    \n",
    "    # Simulation\n",
    "    for i, t in enumerate(tqdm_notebook(ts)):\n",
    "        xs[i] = xs[i-1] + F_val.subs(x, xs[i-1]).subs(R, rs[i]).evalf()\n",
    "    return xs"
   ]
  },
  {
   "cell_type": "code",
   "execution_count": 10,
   "metadata": {},
   "outputs": [],
   "source": [
    "def kramers(U, M, S):\n",
    "    U_ = U.subs(m, M).subs(s, S)\n",
    "    U0 = U_.subs(x, 0)\n",
    "    Um = U_.subs(x, M)\n",
    "    dE = U0-Um\n",
    "    U_1 = diff(U, x)\n",
    "    U_2 = diff(U_1, x)\n",
    "    Wa = sqrt(U_2.subs(x, M).subs(m, M).subs(s, S))\n",
    "    Wb = sqrt(abs(U_2.subs(x, 0).subs(m, M).subs(s, S)))\n",
    "    k = Wa*Wb/(2*pi)*exp(-dE)\n",
    "    return k.evalf()"
   ]
  },
  {
   "cell_type": "code",
   "execution_count": null,
   "metadata": {},
   "outputs": [],
   "source": [
    "Ms = np.arange(1.5, 3.5, 0.5)\n",
    "means = np.zeros(Ms.shape[0])\n",
    "for i, m_val in enumerate(Ms):\n",
    "    data = sim(m_val)\n",
    "    cluster_centers = np.array([[-m_val],[m_val]])\n",
    "    cluster_dtrajs = pyemma.coordinates.assign_to_centers(data, cluster_centers)\n",
    "    its = pyemma.msm.its(cluster_dtrajs, lags=np.linspace(1, 5000, 20).astype(int), nits=1, errors='bayes')\n",
    "    LAG = 600\n",
    "    bayesian_msm = pyemma.msm.bayesian_markov_model(cluster_dtrajs, lag=LAG, conf=0.95)\n",
    "    sample_mean = bayesian_msm.sample_mean('timescales', k=1)\n",
    "    means[i] = sample_mean"
   ]
  },
  {
   "cell_type": "code",
   "execution_count": 13,
   "metadata": {},
   "outputs": [
    {
     "ename": "FileNotFoundError",
     "evalue": "[Errno 2] No such file or directory: 'data/kr_all.data'",
     "output_type": "error",
     "traceback": [
      "\u001b[0;31m---------------------------------------------------------------------------\u001b[0m",
      "\u001b[0;31mFileNotFoundError\u001b[0m                         Traceback (most recent call last)",
      "\u001b[0;32m<ipython-input-13-c8b4259061a1>\u001b[0m in \u001b[0;36m<module>\u001b[0;34m()\u001b[0m\n\u001b[0;32m----> 1\u001b[0;31m \u001b[0;32mwith\u001b[0m \u001b[0mopen\u001b[0m\u001b[0;34m(\u001b[0m\u001b[0;34m'data/kr_all.data'\u001b[0m\u001b[0;34m,\u001b[0m \u001b[0;34m'r'\u001b[0m\u001b[0;34m)\u001b[0m \u001b[0;32mas\u001b[0m \u001b[0mf\u001b[0m\u001b[0;34m:\u001b[0m\u001b[0;34m\u001b[0m\u001b[0m\n\u001b[0m\u001b[1;32m      2\u001b[0m     \u001b[0mmeans\u001b[0m \u001b[0;34m=\u001b[0m \u001b[0mnp\u001b[0m\u001b[0;34m.\u001b[0m\u001b[0mloadtxt\u001b[0m\u001b[0;34m(\u001b[0m\u001b[0mf\u001b[0m\u001b[0;34m)\u001b[0m\u001b[0;34m\u001b[0m\u001b[0m\n",
      "\u001b[0;31mFileNotFoundError\u001b[0m: [Errno 2] No such file or directory: 'data/kr_all.data'"
     ]
    }
   ],
   "source": [
    "with open('data/kr_all.data', 'r') as f:\n",
    "    means = np.loadtxt(f)"
   ]
  },
  {
   "cell_type": "code",
   "execution_count": 12,
   "metadata": {},
   "outputs": [
    {
     "data": {
      "text/plain": [
       "[<matplotlib.lines.Line2D at 0x7f2947fdd4e0>]"
      ]
     },
     "execution_count": 12,
     "metadata": {},
     "output_type": "execute_result"
    },
    {
     "data": {
      "image/png": "[encoded data removed]",
      "text/plain": [
       "<Figure size 432x288 with 1 Axes>"
      ]
     },
     "metadata": {},
     "output_type": "display_data"
    }
   ],
   "source": [
    "ms = np.arange(1.5, 3.5, 0.5)\n",
    "ks = np.array([(1.0)/(dt*kramers(U, m, 1)) for m in ms])\n",
    "plt.plot(ms, ks)\n",
    "plt.plot(ms, means)"
   ]
  },
  {
   "cell_type": "code",
   "execution_count": null,
   "metadata": {},
   "outputs": [],
   "source": []
  }
 ],
 "metadata": {
  "kernelspec": {
   "display_name": "Python 3",
   "language": "python",
   "name": "python3"
  },
  "language_info": {
   "codemirror_mode": {
    "name": "ipython",
    "version": 3
   },
   "file_extension": ".py",
   "mimetype": "text/x-python",
   "name": "python",
   "nbconvert_exporter": "python",
   "pygments_lexer": "ipython3",
   "version": "3.6.5"
  }
 },
 "nbformat": 4,
 "nbformat_minor": 2
}
