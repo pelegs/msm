{
 "cells": [
  {
   "cell_type": "code",
   "execution_count": 1,
   "metadata": {},
   "outputs": [],
   "source": [
    "%matplotlib inline\n",
    "import matplotlib\n",
    "import matplotlib.pyplot as plt\n",
    "import numpy as np\n",
    "from sympy import *\n",
    "from tqdm import tqdm_notebook\n",
    "import pyemma"
   ]
  },
  {
   "cell_type": "code",
   "execution_count": 2,
   "metadata": {},
   "outputs": [
    {
     "name": "stderr",
     "output_type": "stream",
     "text": [
      "/home/psapir/anaconda3/lib/python3.6/site-packages/pyemma/__init__.py:130: UserWarning: You are not using the latest release of PyEMMA. Latest is 2.5.6, you have 2.5.4.\n",
      "  .format(latest=latest, current=current), category=UserWarning)\n"
     ]
    }
   ],
   "source": [
    "# Symbols\n",
    "x = symbols('x')\n",
    "m = symbols('mu')\n",
    "s = symbols('sigma')\n",
    "\n",
    "# Potential\n",
    "U = -log(exp(-(x-m)**2/(2*s**2)) + exp(-(x+m)**2/(2*s**2)))\n",
    "\n",
    "# Brownian Dynamics Parameters\n",
    "KT = symbols('k_{B}T')\n",
    "Ddt = symbols('Ddt')\n",
    "R = symbols('R')\n",
    "\n",
    "# Other Parameters\n",
    "maxt = 100\n",
    "dt = 0.001\n",
    "\n",
    "# Forces\n",
    "F1 = simplify(-diff(U, x))*Ddt/KT\n",
    "F2 = sqrt(2*Ddt)*R\n",
    "F = F1 + F2"
   ]
  },
  {
   "cell_type": "code",
   "execution_count": 3,
   "metadata": {},
   "outputs": [],
   "source": [
    "def kramers(U, M, S):\n",
    "    U_ = U.subs(m, M).subs(s, S)\n",
    "    U0 = U_.subs(x, 0)\n",
    "    Um = U_.subs(x, M)\n",
    "    dE = U0-Um\n",
    "    U_1 = diff(U, x)\n",
    "    U_2 = diff(U_1, x)\n",
    "    Wa = sqrt(U_2.subs(x, M).subs(m, M).subs(s, S))\n",
    "    Wb = sqrt(abs(U_2.subs(x, 0).subs(m, M).subs(s, S)))\n",
    "    k = 2*pi/(Wa*Wb)*exp(dE)\n",
    "    return k.evalf()"
   ]
  },
  {
   "cell_type": "code",
   "execution_count": 5,
   "metadata": {},
   "outputs": [],
   "source": [
    "kr_data = np.loadtxt('../data/kr_all.data')"
   ]
  },
  {
   "cell_type": "code",
   "execution_count": null,
   "metadata": {},
   "outputs": [],
   "source": []
  }
 ],
 "metadata": {
  "kernelspec": {
   "display_name": "Python 3",
   "language": "python",
   "name": "python3"
  },
  "language_info": {
   "codemirror_mode": {
    "name": "ipython",
    "version": 3
   },
   "file_extension": ".py",
   "mimetype": "text/x-python",
   "name": "python",
   "nbconvert_exporter": "python",
   "pygments_lexer": "ipython3",
   "version": "3.6.5"
  }
 },
 "nbformat": 4,
 "nbformat_minor": 2
}
