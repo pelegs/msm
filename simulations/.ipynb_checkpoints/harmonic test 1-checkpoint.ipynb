{
 "cells": [
  {
   "cell_type": "code",
   "execution_count": null,
   "metadata": {},
   "outputs": [],
   "source": [
    "import numpy as np\n",
    "from scipy.special import erf\n",
    "import sys\n",
    "sys.path.append('../lib')\n",
    "from libsim import simulate, simulate_histogram"
   ]
  },
  {
   "cell_type": "code",
   "execution_count": null,
   "metadata": {},
   "outputs": [],
   "source": [
    "name = 'harmonic_test'\n",
    "num_particles = 1000\n",
    "M = np.array([0]).astype(np.float64)\n",
    "S = np.array([1]).astype(np.float64)\n",
    "D = 1\n",
    "beta = 1\n",
    "dt = 0.001\n",
    "total_steps = 1000\n",
    "equilibration_time = 50\n",
    "x0 = 1\n",
    "x0s = np.ones(num_particles) * x0"
   ]
  },
  {
   "cell_type": "code",
   "execution_count": null,
   "metadata": {},
   "outputs": [],
   "source": [
    "simulate(name,\n",
    "         num_particles,\n",
    "         random=0, x0s=x0s,\n",
    "         S=S, M=M,\n",
    "         D=D, beta=beta,\n",
    "         dt=dt, total_steps=total_steps, equilibration_time=equilibration_time,\n",
    "         )"
   ]
  }
 ],
 "metadata": {
  "kernelspec": {
   "display_name": "Python 3",
   "language": "python",
   "name": "python3"
  },
  "language_info": {
   "codemirror_mode": {
    "name": "ipython",
    "version": 3
   },
   "file_extension": ".py",
   "mimetype": "text/x-python",
   "name": "python",
   "nbconvert_exporter": "python",
   "pygments_lexer": "ipython3",
   "version": "3.5.5"
  }
 },
 "nbformat": 4,
 "nbformat_minor": 2
}
