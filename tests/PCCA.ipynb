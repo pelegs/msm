{
 "cells": [
  {
   "cell_type": "code",
   "execution_count": 47,
   "metadata": {},
   "outputs": [],
   "source": [
    "import numpy as np\n",
    "from pyemma.msm import PCCA\n",
    "from matplotlib import pyplot as plt\n",
    "%matplotlib inline"
   ]
  },
  {
   "cell_type": "code",
   "execution_count": 55,
   "metadata": {},
   "outputs": [],
   "source": [
    "x = 0.4\n",
    "m = np.array([[1-2*x, x, x, 0, 0, 0, 0, 0, 0],                                    \n",
    "              [x, 1-2*x-x/10, x, 0, x/10, 0, 0, 0, 0],\n",
    "              [x, x, 1-2*x, 0, 0, 0, 0, 0, 0],\n",
    "              [0, 0, 0, 1-2*x, x, x, 0, 0, 0],\n",
    "              [0, x/10, 0, 1-2*x-x/10-x/10, x, x, 0, x/10, 0],\n",
    "              [0, 0, 0, x, x, 1-2*x, 0, 0, 0],\n",
    "              [0, 0, 0, 0, x/10, 0, 1-2*x-x/10, x, x],\n",
    "              [0, 0, 0, 0, 0, 0, x, 1-2*x, x],\n",
    "              [0, 0, 0, 0, 0, 0, x, x, 1-2*x]])"
   ]
  },
  {
   "cell_type": "code",
   "execution_count": 56,
   "metadata": {},
   "outputs": [],
   "source": [
    "m  = 0.5*(m.T+m)\n",
    "for i, row in enumerate(m):\n",
    "    m[i] = row/row.sum()"
   ]
  },
  {
   "cell_type": "code",
   "execution_count": 57,
   "metadata": {},
   "outputs": [],
   "source": [
    "c = PCCA(m, 3)"
   ]
  },
  {
   "cell_type": "code",
   "execution_count": 58,
   "metadata": {},
   "outputs": [
    {
     "data": {
      "text/plain": [
       "<matplotlib.image.AxesImage at 0x7ff618a48080>"
      ]
     },
     "execution_count": 58,
     "metadata": {},
     "output_type": "execute_result"
    },
    {
     "data": {
      "image/png": "[encoded data removed]",
      "text/plain": [
       "<Figure size 432x288 with 1 Axes>"
      ]
     },
     "metadata": {},
     "output_type": "display_data"
    }
   ],
   "source": [
    "plt.imshow(m)"
   ]
  },
  {
   "cell_type": "code",
   "execution_count": 59,
   "metadata": {},
   "outputs": [
    {
     "data": {
      "text/plain": [
       "array([[9.74797223e-01, 1.27065240e-02, 1.24962526e-02],\n",
       "       [1.25281299e-02, 9.87109606e-01, 3.62264138e-04],\n",
       "       [1.23175384e-02, 3.64455885e-04, 9.87318006e-01]])"
      ]
     },
     "execution_count": 59,
     "metadata": {},
     "output_type": "execute_result"
    }
   ],
   "source": [
    "c.coarse_grained_transition_matrix"
   ]
  },
  {
   "cell_type": "code",
   "execution_count": 61,
   "metadata": {},
   "outputs": [],
   "source": [
    "c, v = np.linalg.eig(m)"
   ]
  },
  {
   "cell_type": "code",
   "execution_count": 68,
   "metadata": {},
   "outputs": [
    {
     "data": {
      "text/plain": [
       "array([ 0.96237304,  1.        ,  0.98685179,  0.04769079, -0.24179036,\n",
       "       -0.22486092, -0.2292947 , -0.2       , -0.19819058])"
      ]
     },
     "execution_count": 68,
     "metadata": {},
     "output_type": "execute_result"
    }
   ],
   "source": [
    "c"
   ]
  },
  {
   "cell_type": "code",
   "execution_count": 70,
   "metadata": {},
   "outputs": [
    {
     "data": {
      "text/plain": [
       "array([ 0.23901864, -0.33333333, -0.41448392,  0.04505974,  0.19555999,\n",
       "        0.33294331, -0.071761  , -0.70710678, -0.00712432])"
      ]
     },
     "execution_count": 70,
     "metadata": {},
     "output_type": "execute_result"
    }
   ],
   "source": [
    "v[2]"
   ]
  },
  {
   "cell_type": "code",
   "execution_count": null,
   "metadata": {},
   "outputs": [],
   "source": []
  }
 ],
 "metadata": {
  "kernelspec": {
   "display_name": "Python 3",
   "language": "python",
   "name": "python3"
  },
  "language_info": {
   "codemirror_mode": {
    "name": "ipython",
    "version": 3
   },
   "file_extension": ".py",
   "mimetype": "text/x-python",
   "name": "python",
   "nbconvert_exporter": "python",
   "pygments_lexer": "ipython3",
   "version": "3.6.5"
  }
 },
 "nbformat": 4,
 "nbformat_minor": 2
}
