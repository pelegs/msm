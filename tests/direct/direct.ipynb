{
 "cells": [
  {
   "cell_type": "code",
   "execution_count": 1,
   "metadata": {},
   "outputs": [],
   "source": [
    "import numpy as np\n",
    "from numpy import exp, sqrt, log, pi\n",
    "sqrt2pi = 1/sqrt(2*pi)"
   ]
  },
  {
   "cell_type": "code",
   "execution_count": 2,
   "metadata": {},
   "outputs": [],
   "source": [
    "def gaussian(x, A, m, s):\n",
    "    return A*sqrt2pi/s * exp(-(x-m)**2/(2*s**2))\n",
    "\n",
    "def "
   ]
  },
  {
   "cell_type": "code",
   "execution_count": 8,
   "metadata": {},
   "outputs": [],
   "source": [
    "I = 10\n",
    "N = 10\n",
    "dx = 0.001\n",
    "Xs = np.arange(-I, I, dx)\n",
    "\n",
    "Mus = np.arange(-I, I, N)\n",
    "Sigs = 1\n",
    "\n",
    "A = 10\n",
    "dA = 0.1\n",
    "Amps = np.arange(-A, A, dA)"
   ]
  },
  {
   "cell_type": "code",
   "execution_count": null,
   "metadata": {},
   "outputs": [],
   "source": []
  }
 ],
 "metadata": {
  "kernelspec": {
   "display_name": "Python 3",
   "language": "python",
   "name": "python3"
  },
  "language_info": {
   "codemirror_mode": {
    "name": "ipython",
    "version": 3
   },
   "file_extension": ".py",
   "mimetype": "text/x-python",
   "name": "python",
   "nbconvert_exporter": "python",
   "pygments_lexer": "ipython3",
   "version": "3.5.5"
  }
 },
 "nbformat": 4,
 "nbformat_minor": 2
}
