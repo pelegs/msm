{
 "cells": [
  {
   "cell_type": "code",
   "execution_count": 58,
   "metadata": {},
   "outputs": [
    {
     "name": "stdout",
     "output_type": "stream",
     "text": [
      "Beta: [ 3.7  1.3]\n",
      "Beta Std Error: [  4.96207699e-16   6.95187347e-15]\n",
      "Beta Covariance: [[ 0.023928   -0.3292991 ]\n",
      " [-0.3292991   4.69659564]]\n",
      "Residual Variance: 1.0290122566044842e-29\n",
      "Inverse Condition #: 0.012646869572403572\n",
      "Reason(s) for Halting:\n",
      "  Parameter convergence\n",
      "['__class__', '__delattr__', '__dict__', '__dir__', '__doc__', '__eq__', '__format__', '__ge__', '__getattribute__', '__gt__', '__hash__', '__init__', '__le__', '__lt__', '__module__', '__ne__', '__new__', '__reduce__', '__reduce_ex__', '__repr__', '__setattr__', '__sizeof__', '__str__', '__subclasshook__', '__weakref__', 'beta', 'cov_beta', 'delta', 'eps', 'info', 'inv_condnum', 'iwork', 'pprint', 'rel_error', 'res_var', 'sd_beta', 'stopreason', 'sum_square', 'sum_square_delta', 'sum_square_eps', 'work', 'work_ind', 'xplus', 'y']\n",
      "[ 3.7  1.3]\n",
      "[[ 0.023928   -0.3292991 ]\n",
      " [-0.3292991   4.69659564]]\n"
     ]
    }
   ],
   "source": [
    "import numpy as np\n",
    "import matplotlib.pyplot as plt\n",
    "from scipy.odr import *\n",
    "\n",
    "def linear_func(B, x):\n",
    "    return B[0]*x+B[1]\n",
    "\n",
    "N = 100\n",
    "A = 3.7\n",
    "B = 1.3\n",
    "\n",
    "x_data = np.linspace(0, 20, N)\n",
    "y_data = A *x_data + B\n",
    "x_err = np.random.uniform(-10, 10, size=N)\n",
    "y_err = np.random.uniform(-10, 10, size=N)\n",
    "\n",
    "C = A + np.random.normal()\n",
    "D = B + np.random.normal()\n",
    "linear = Model(linear_func)\n",
    "data = RealData(x_data, y_data, sx=x_err, sy=y_err)\n",
    "odr = ODR(data, linear, beta0=[1.1, 4.6])\n",
    "out = odr.run()\n",
    "out.pprint()\n",
    "print(dir(out))\n",
    "print(out.beta)\n",
    "print(out.cov_beta)"
   ]
  },
  {
   "cell_type": "code",
   "execution_count": null,
   "metadata": {},
   "outputs": [],
   "source": []
  }
 ],
 "metadata": {
  "kernelspec": {
   "display_name": "Python 3",
   "language": "python",
   "name": "python3"
  },
  "language_info": {
   "codemirror_mode": {
    "name": "ipython",
    "version": 3
   },
   "file_extension": ".py",
   "mimetype": "text/x-python",
   "name": "python",
   "nbconvert_exporter": "python",
   "pygments_lexer": "ipython3",
   "version": "3.5.5"
  }
 },
 "nbformat": 4,
 "nbformat_minor": 2
}
