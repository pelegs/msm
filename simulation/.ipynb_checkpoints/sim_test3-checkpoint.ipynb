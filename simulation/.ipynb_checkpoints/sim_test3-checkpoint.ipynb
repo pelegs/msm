{
 "cells": [
  {
   "cell_type": "code",
   "execution_count": 1,
   "metadata": {},
   "outputs": [],
   "source": [
    "from matplotlib import pyplot as plt \n",
    "import numpy as np  \n",
    "%matplotlib inline"
   ]
  },
  {
   "cell_type": "code",
   "execution_count": 2,
   "metadata": {},
   "outputs": [],
   "source": [
    "import sys\n",
    "sys.path.append('../lib')\n",
    "from simlib import *"
   ]
  },
  {
   "cell_type": "code",
   "execution_count": 100,
   "metadata": {},
   "outputs": [],
   "source": [
    "D = np.random.uniform(0.1, 2.5)\n",
    "b = np.random.uniform(0.1, 2.5)\n",
    "k = np.random.uniform(1.0, 2.5)\n",
    "x0 = 3"
   ]
  },
  {
   "cell_type": "code",
   "execution_count": 101,
   "metadata": {},
   "outputs": [],
   "source": [
    "U = harmonic_potential(k=k)"
   ]
  },
  {
   "cell_type": "code",
   "execution_count": 102,
   "metadata": {},
   "outputs": [],
   "source": [
    "ts, xs, hist, bin_edges = simulate('test', U, method='langevin', num_particles=10000, x0=x0, D=D, KT=1/b, max_t=40)"
   ]
  },
  {
   "cell_type": "code",
   "execution_count": 103,
   "metadata": {},
   "outputs": [],
   "source": [
    "means = []\n",
    "stdev = []\n",
    "for i, t in enumerate(ts):\n",
    "    means.append(np.mean(xs[i]))\n",
    "    stdev.append(np.std(xs[i]))"
   ]
  },
  {
   "cell_type": "code",
   "execution_count": 105,
   "metadata": {},
   "outputs": [
    {
     "data": {
      "text/plain": [
       "[<matplotlib.lines.Line2D at 0x7fc47edd9da0>]"
      ]
     },
     "execution_count": 105,
     "metadata": {},
     "output_type": "execute_result"
    },
    {
     "data": {
      "image/png": "[encoded data removed]",
      "text/plain": [
       "<Figure size 432x288 with 1 Axes>"
      ]
     },
     "metadata": {},
     "output_type": "display_data"
    }
   ],
   "source": [
    "def mu(t):\n",
    "    return x0*np.exp(-D*b*k*t)\n",
    "\n",
    "def sig(t):\n",
    "    return np.sqrt(1/(b*k)*(1-np.exp(-2*D*b*k*t)))\n",
    "\n",
    "mi, ma = 0, 400\n",
    "plt.xlabel = 't'\n",
    "\n",
    "plt.plot(ts[mi:ma], mu(ts[mi:ma]), color='orange', linewidth=2)\n",
    "plt.plot(ts[mi:ma], means[mi:ma], color='green')\n",
    "\n",
    "plt.plot(ts[mi:ma], sig(ts[mi:ma]), color='red', linewidth=2)\n",
    "plt.plot(ts[mi:ma], stdev[mi:ma], color='blue')\n"
   ]
  },
  {
   "cell_type": "code",
   "execution_count": 84,
   "metadata": {},
   "outputs": [
    {
     "data": {
      "text/plain": [
       "(1.8976571633402977, 1.3853529998372547, 0.2495242385014696)"
      ]
     },
     "execution_count": 84,
     "metadata": {},
     "output_type": "execute_result"
    }
   ],
   "source": [
    "D, b, k"
   ]
  },
  {
   "cell_type": "code",
   "execution_count": null,
   "metadata": {},
   "outputs": [],
   "source": []
  }
 ],
 "metadata": {
  "kernelspec": {
   "display_name": "Python 3",
   "language": "python",
   "name": "python3"
  },
  "language_info": {
   "codemirror_mode": {
    "name": "ipython",
    "version": 3
   },
   "file_extension": ".py",
   "mimetype": "text/x-python",
   "name": "python",
   "nbconvert_exporter": "python",
   "pygments_lexer": "ipython3",
   "version": "3.5.5"
  }
 },
 "nbformat": 4,
 "nbformat_minor": 2
}
