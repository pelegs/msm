{
 "cells": [
  {
   "cell_type": "code",
   "execution_count": 2,
   "metadata": {},
   "outputs": [],
   "source": [
    "from matplotlib import pyplot as plt \n",
    "import numpy as np  \n",
    "%matplotlib inline\n",
    "from tqdm import tqdm"
   ]
  },
  {
   "cell_type": "code",
   "execution_count": 3,
   "metadata": {},
   "outputs": [],
   "source": [
    "import sys\n",
    "sys.path.append('../lib')\n",
    "from simlib import *"
   ]
  },
  {
   "cell_type": "code",
   "execution_count": 3,
   "metadata": {},
   "outputs": [],
   "source": [
    "U = harmonic_potential(k=7)"
   ]
  },
  {
   "cell_type": "code",
   "execution_count": null,
   "metadata": {},
   "outputs": [
    {
     "name": "stderr",
     "output_type": "stream",
     "text": [
      "999999it [00:07, 137868.77it/s]\n"
     ]
    }
   ],
   "source": [
    "ts, xs, _, _ = simulate(U, method='langevin', num_particles=1, max_t=100000, x0=0, D=0.5)"
   ]
  },
  {
   "cell_type": "code",
   "execution_count": 43,
   "metadata": {
    "scrolled": true
   },
   "outputs": [
    {
     "data": {
      "text/plain": [
       "[<matplotlib.lines.Line2D at 0x7f04ad059ac8>]"
      ]
     },
     "execution_count": 43,
     "metadata": {},
     "output_type": "execute_result"
    },
    {
     "data": {
      "image/png": "[encoded data removed]",
      "text/plain": [
       "<Figure size 432x288 with 1 Axes>"
      ]
     },
     "metadata": {},
     "output_type": "display_data"
    }
   ],
   "source": [
    "hist, bin_edges = np.histogram(xs[100:-1,0], bins=50, density=True)\n",
    "plt.plot(bin_edges[:-1], hist)"
   ]
  },
  {
   "cell_type": "code",
   "execution_count": 6,
   "metadata": {},
   "outputs": [
    {
     "name": "stderr",
     "output_type": "stream",
     "text": [
      "\n",
      "  0%|          | 0/30 [00:00<?, ?it/s]\u001b[A\n",
      "100%|██████████| 30/30 [41:12<00:00, 82.43s/it]\n",
      "100%|██████████| 30/30 [00:00<00:00, 239.31it/s]\n"
     ]
    },
    {
     "data": {
      "text/plain": [
       "[<matplotlib.lines.Line2D at 0x7f76ee494ac8>]"
      ]
     },
     "execution_count": 6,
     "metadata": {},
     "output_type": "execute_result"
    },
    {
     "data": {
      "image/png": "[encoded data removed]",
      "text/plain": [
       "<Figure size 432x288 with 1 Axes>"
      ]
     },
     "metadata": {},
     "output_type": "display_data"
    }
   ],
   "source": [
    "ks = [0.5, 1.0, 1.5, 2.0, 2.5]\n",
    "bs = [0.1, 0.3, 0.7, 1.0, 1.2]\n",
    "sqrtbks = []\n",
    "\n",
    "times, positions = [], []\n",
    "for k in tqdm(ks):\n",
    "    for b in bs:\n",
    "        sqrtbks.append(1/np.sqrt(b*k))\n",
    "        U = harmonic_potential(k=k)\n",
    "        ts, xs, _, _ = simulate(U, method='langevin', num_particles=1, max_t=100000, x0=0, D=0.5, KT=1/b)\n",
    "        times.append(ts)\n",
    "        positions.append(xs)\n",
    "    \n",
    "stdevs, means = [], []\n",
    "for xs in tqdm(positions):\n",
    "    mean = np.mean(xs[100:-1,0])\n",
    "    stdev = np.std(xs[100:-1,0])\n",
    "    means.append(mean)\n",
    "    stdevs.append(stdev)\n",
    "    \n",
    "plt.plot(ks, means)\n",
    "plt.plot(ks, stdevs)"
   ]
  },
  {
   "cell_type": "code",
   "execution_count": 7,
   "metadata": {},
   "outputs": [],
   "source": [
    "with open('../data/static_harmonic_lang.data', 'w') as f:\n",
    "    for k, mean, stdev in zip(ks, means, stdevs):\n",
    "        f.write('{} {} {}\\n'.format(k, mean, stdev))"
   ]
  },
  {
   "cell_type": "code",
   "execution_count": null,
   "metadata": {},
   "outputs": [],
   "source": []
  }
 ],
 "metadata": {
  "kernelspec": {
   "display_name": "Python 3",
   "language": "python",
   "name": "python3"
  },
  "language_info": {
   "codemirror_mode": {
    "name": "ipython",
    "version": 3
   },
   "file_extension": ".py",
   "mimetype": "text/x-python",
   "name": "python",
   "nbconvert_exporter": "python",
   "pygments_lexer": "ipython3",
   "version": "3.5.5"
  }
 },
 "nbformat": 4,
 "nbformat_minor": 2
}
