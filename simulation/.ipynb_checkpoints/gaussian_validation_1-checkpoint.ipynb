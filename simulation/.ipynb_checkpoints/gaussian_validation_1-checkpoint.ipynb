{
 "cells": [
  {
   "cell_type": "code",
   "execution_count": 1,
   "metadata": {},
   "outputs": [],
   "source": [
    "from matplotlib import pyplot as plt \n",
    "import numpy as np  \n",
    "%matplotlib inline\n",
    "from tqdm import tqdm\n",
    "from scipy.special import erf"
   ]
  },
  {
   "cell_type": "code",
   "execution_count": 2,
   "metadata": {},
   "outputs": [],
   "source": [
    "import sys\n",
    "sys.path.append('../lib')\n",
    "from simlib import *"
   ]
  },
  {
   "cell_type": "code",
   "execution_count": 3,
   "metadata": {},
   "outputs": [],
   "source": [
    "def gen_int(x, m, s):\n",
    "    return erf((x-m)/(np.sqrt(2)*s))/2\n",
    "\n",
    "#def integral(x1, x2, m1, m2, s1, s2):\n",
    "#    return 0.5 * (gen_int(x2, m1, s1) + gen_int(x2, m2, s2) - gen_int(x1, m1, s1) - gen_int(x1, m2, s2))\n",
    "\n",
    "def integral(x1, x2, m, s):\n",
    "    return gen_int(x2, m, s) - gen_int(x1, m, s)"
   ]
  },
  {
   "cell_type": "code",
   "execution_count": 4,
   "metadata": {},
   "outputs": [],
   "source": [
    "method = 'lang'"
   ]
  },
  {
   "cell_type": "code",
   "execution_count": 14,
   "metadata": {},
   "outputs": [],
   "source": [
    "#m1, m2 = [0, 0]\n",
    "#s1, s2 = [1, 1]\n",
    "m, s = [0, 1]\n",
    "U = gaussian_potential([gaussian(m, s)])\n",
    "#g1 = gaussian(m1, s1)\n",
    "#g2 = gaussian(m2, s2)\n",
    "#U = gaussian_potential([g1, g2])"
   ]
  },
  {
   "cell_type": "code",
   "execution_count": 23,
   "metadata": {},
   "outputs": [],
   "source": [
    "num_particles = 1000\n",
    "max_t = 1000.0\n",
    "dt = 0.1\n",
    "x0 = 0.0\n",
    "beta = 0.5\n",
    "steps = max_t/dt"
   ]
  },
  {
   "cell_type": "code",
   "execution_count": null,
   "metadata": {},
   "outputs": [
    {
     "name": "stderr",
     "output_type": "stream",
     "text": [
      " 87%|████████▋ | 8697/9999 [04:01<00:36, 35.99it/s]"
     ]
    }
   ],
   "source": [
    "ts, xs = simulate(method=method, potential=U, num_particles=num_particles, max_t=max_t, dt=dt, x0=x0)"
   ]
  },
  {
   "cell_type": "code",
   "execution_count": null,
   "metadata": {},
   "outputs": [],
   "source": [
    "num_bins = 300\n",
    "bins = np.linspace(-8, 8, num_bins)"
   ]
  },
  {
   "cell_type": "code",
   "execution_count": null,
   "metadata": {},
   "outputs": [],
   "source": [
    "hist = np.zeros(shape=(num_particles, num_bins-1))\n",
    "for i in range(num_particles):\n",
    "    hist[i], _ = np.histogram(xs[:,i], bins)"
   ]
  },
  {
   "cell_type": "code",
   "execution_count": null,
   "metadata": {},
   "outputs": [],
   "source": [
    "mean_hist = np.mean(hist, axis=0)"
   ]
  },
  {
   "cell_type": "code",
   "execution_count": null,
   "metadata": {},
   "outputs": [],
   "source": [
    "expected = steps * np.array([integral(bins[i], bins[i+1], m, s) for i in range(num_bins-1)])"
   ]
  },
  {
   "cell_type": "code",
   "execution_count": null,
   "metadata": {},
   "outputs": [],
   "source": [
    "plt.plot(bins[:-1], expected)\n",
    "plt.plot(bins[:-1], mean_hist)"
   ]
  },
  {
   "cell_type": "code",
   "execution_count": null,
   "metadata": {},
   "outputs": [],
   "source": [
    "match_array = [1 if e-np.sqrt(e) <= h <= e+np.sqrt(e) else 0 for h, e in zip(expected, mean_hist)]\n",
    "match = np.sum(match_array) / num_bins\n",
    "print('match = {}%'.format(match*100))"
   ]
  },
  {
   "cell_type": "code",
   "execution_count": null,
   "metadata": {},
   "outputs": [],
   "source": []
  }
 ],
 "metadata": {
  "kernelspec": {
   "display_name": "Python 3",
   "language": "python",
   "name": "python3"
  },
  "language_info": {
   "codemirror_mode": {
    "name": "ipython",
    "version": 3
   },
   "file_extension": ".py",
   "mimetype": "text/x-python",
   "name": "python",
   "nbconvert_exporter": "python",
   "pygments_lexer": "ipython3",
   "version": "3.5.5"
  }
 },
 "nbformat": 4,
 "nbformat_minor": 2
}
