{
 "cells": [
  {
   "cell_type": "code",
   "execution_count": 1,
   "metadata": {},
   "outputs": [],
   "source": [
    "from matplotlib import pyplot as plt \n",
    "import numpy as np  \n",
    "%matplotlib inline\n",
    "from tqdm import tqdm\n",
    "from scipy.special import erf"
   ]
  },
  {
   "cell_type": "code",
   "execution_count": 2,
   "metadata": {},
   "outputs": [],
   "source": [
    "import sys\n",
    "sys.path.append('../lib')\n",
    "from simlib import *"
   ]
  },
  {
   "cell_type": "code",
   "execution_count": 3,
   "metadata": {},
   "outputs": [],
   "source": [
    "def gen_int(x, m, s):\n",
    "    return erf((x-m)/(np.sqrt(2)*s))/2\n",
    "\n",
    "def integral(x1, x2, m1, m2, s1, s2):\n",
    "    return 0.5 * (gen_int(x2, m1, s1) + gen_int(x2, m2, s2) - gen_int(x1, m1, s1) - gen_int(x1, m2, s2))"
   ]
  },
  {
   "cell_type": "code",
   "execution_count": 4,
   "metadata": {},
   "outputs": [],
   "source": [
    "method = 'lang'"
   ]
  },
  {
   "cell_type": "code",
   "execution_count": 15,
   "metadata": {},
   "outputs": [],
   "source": [
    "m1, m2 = [-5, 5]\n",
    "s1, s2 = [1.5, 1.5]\n",
    "g1 = gaussian(m1, s1)\n",
    "g2 = gaussian(m2, s2)\n",
    "U = gaussian_potential([g1, g2])"
   ]
  },
  {
   "cell_type": "code",
   "execution_count": 16,
   "metadata": {},
   "outputs": [],
   "source": [
    "num_particles = 100\n",
    "max_t = 1000.0\n",
    "dt = 0.1\n",
    "x0 = 0.0\n",
    "beta = 0.5\n",
    "steps = max_t/dt"
   ]
  },
  {
   "cell_type": "code",
   "execution_count": 18,
   "metadata": {},
   "outputs": [
    {
     "name": "stderr",
     "output_type": "stream",
     "text": [
      "\n",
      "  0%|          | 0/9999 [00:00<?, ?it/s]\u001b[A\n",
      "  0%|          | 28/9999 [00:00<00:36, 274.97it/s]\u001b[A\n",
      "  1%|          | 58/9999 [00:00<00:34, 284.52it/s]\u001b[A\n",
      "  1%|          | 88/9999 [00:00<00:34, 285.46it/s]\u001b[A\n",
      "  1%|          | 118/9999 [00:00<00:34, 287.27it/s]\u001b[A\n",
      "  1%|▏         | 149/9999 [00:00<00:33, 290.30it/s]\u001b[A\n",
      "100%|██████████| 9999/9999 [00:33<00:00, 300.29it/s]\n"
     ]
    }
   ],
   "source": [
    "ts, xs = simulate(method=method, potential=U, num_particles=num_particles, max_t=max_t, dt=dt, x0=x0)"
   ]
  },
  {
   "cell_type": "code",
   "execution_count": 26,
   "metadata": {},
   "outputs": [],
   "source": [
    "num_bins = 300\n",
    "bins = np.linspace(-11, 11, num_bins)"
   ]
  },
  {
   "cell_type": "code",
   "execution_count": 27,
   "metadata": {},
   "outputs": [],
   "source": [
    "hist = np.zeros(shape=(num_particles, num_bins-1))\n",
    "for i in range(num_particles):\n",
    "    hist[i], _ = np.histogram(xs[:,i], bins)"
   ]
  },
  {
   "cell_type": "code",
   "execution_count": 28,
   "metadata": {},
   "outputs": [],
   "source": [
    "mean_hist = np.mean(hist, axis=0)"
   ]
  },
  {
   "cell_type": "code",
   "execution_count": 29,
   "metadata": {},
   "outputs": [],
   "source": [
    "expected = steps * np.array([integral(bins[i], bins[i+1], m1, m2, s1, s2) for i in range(num_bins-1)])"
   ]
  },
  {
   "cell_type": "code",
   "execution_count": 30,
   "metadata": {},
   "outputs": [
    {
     "data": {
      "text/plain": [
       "[<matplotlib.lines.Line2D at 0x7f1eec834d30>]"
      ]
     },
     "execution_count": 30,
     "metadata": {},
     "output_type": "execute_result"
    },
    {
     "data": {
      "image/png": "[encoded data removed]",
      "text/plain": [
       "<Figure size 432x288 with 1 Axes>"
      ]
     },
     "metadata": {},
     "output_type": "display_data"
    }
   ],
   "source": [
    "plt.plot(bins[:-1], expected)\n",
    "plt.plot(bins[:-1], mean_hist)"
   ]
  },
  {
   "cell_type": "code",
   "execution_count": 31,
   "metadata": {},
   "outputs": [],
   "source": [
    "err = np.sqrt(mean_hist)"
   ]
  },
  {
   "cell_type": "code",
   "execution_count": 32,
   "metadata": {},
   "outputs": [
    {
     "name": "stdout",
     "output_type": "stream",
     "text": [
      "match = 99.66666666666667%\n"
     ]
    }
   ],
   "source": [
    "match_array = [1 if h-er <= ex <= h+er else 0 for h, ex, er in zip(mean_hist, expected, err)]\n",
    "match = np.sum(match_array) / num_bins\n",
    "print('match = {}%'.format(match*100))"
   ]
  },
  {
   "cell_type": "code",
   "execution_count": null,
   "metadata": {},
   "outputs": [],
   "source": []
  }
 ],
 "metadata": {
  "kernelspec": {
   "display_name": "Python 3",
   "language": "python",
   "name": "python3"
  },
  "language_info": {
   "codemirror_mode": {
    "name": "ipython",
    "version": 3
   },
   "file_extension": ".py",
   "mimetype": "text/x-python",
   "name": "python",
   "nbconvert_exporter": "python",
   "pygments_lexer": "ipython3",
   "version": "3.5.5"
  }
 },
 "nbformat": 4,
 "nbformat_minor": 2
}
