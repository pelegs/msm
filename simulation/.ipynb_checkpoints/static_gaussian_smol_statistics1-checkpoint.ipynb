{
 "cells": [
  {
   "cell_type": "code",
   "execution_count": 1,
   "metadata": {},
   "outputs": [],
   "source": [
    "from matplotlib import pyplot as plt \n",
    "import numpy as np  \n",
    "%matplotlib inline"
   ]
  },
  {
   "cell_type": "code",
   "execution_count": 2,
   "metadata": {},
   "outputs": [],
   "source": [
    "def gauss(x, m, s, A):\n",
    "    return A * np.exp(-(x-m)**2/(2*s**2))"
   ]
  },
  {
   "cell_type": "code",
   "execution_count": 3,
   "metadata": {},
   "outputs": [],
   "source": [
    "m, s = 0, 2\n",
    "num_bins = 500\n",
    "nums = np.random.normal(m, s, size=10000000)\n",
    "hist, bins = np.histogram(nums, bins=num_bins)"
   ]
  },
  {
   "cell_type": "code",
   "execution_count": 4,
   "metadata": {},
   "outputs": [],
   "source": [
    "expected = gauss(bins[:-1], m, s, np.max(hist)).astype(int)"
   ]
  },
  {
   "cell_type": "code",
   "execution_count": 5,
   "metadata": {},
   "outputs": [],
   "source": [
    "dev = np.abs(expected - hist)"
   ]
  },
  {
   "cell_type": "code",
   "execution_count": 9,
   "metadata": {},
   "outputs": [
    {
     "name": "stdout",
     "output_type": "stream",
     "text": [
      "28 / 500 (5.60%)\n"
     ]
    }
   ],
   "source": [
    "exp_plus =  expected + np.sqrt(expected)\n",
    "exp_minus = expected - np.sqrt(expected)\n",
    "p_dev = [(x, e, m, p) for x, e, m, p in zip(hist, expected, exp_minus, exp_plus)]\n",
    "\n",
    "k = np.sum([0 if (e-m <= x <= e+p) else 1 for x, e, m, p in zip(hist, expected, exp_minus, exp_plus)])\n",
    "print(k, '/', num_bins, '({:1.2f}%)'.format(k/num_bins*100))"
   ]
  },
  {
   "cell_type": "code",
   "execution_count": null,
   "metadata": {},
   "outputs": [],
   "source": []
  }
 ],
 "metadata": {
  "kernelspec": {
   "display_name": "Python 3",
   "language": "python",
   "name": "python3"
  },
  "language_info": {
   "codemirror_mode": {
    "name": "ipython",
    "version": 3
   },
   "file_extension": ".py",
   "mimetype": "text/x-python",
   "name": "python",
   "nbconvert_exporter": "python",
   "pygments_lexer": "ipython3",
   "version": "3.5.5"
  }
 },
 "nbformat": 4,
 "nbformat_minor": 2
}
