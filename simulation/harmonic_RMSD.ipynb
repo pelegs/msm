{
 "cells": [
  {
   "cell_type": "code",
   "execution_count": 1,
   "metadata": {},
   "outputs": [],
   "source": [
    "from matplotlib import pyplot as plt \n",
    "import numpy as np  \n",
    "%matplotlib inline\n",
    "from tqdm import tqdm"
   ]
  },
  {
   "cell_type": "code",
   "execution_count": 2,
   "metadata": {},
   "outputs": [],
   "source": [
    "import sys\n",
    "sys.path.append('../lib')\n",
    "from simlib import *"
   ]
  },
  {
   "cell_type": "code",
   "execution_count": 3,
   "metadata": {},
   "outputs": [],
   "source": [
    "def th_mean(t, x0=0, D=1, k=1, beta=1):\n",
    "    return x0 * np.exp(-D*k*beta*t)\n",
    "\n",
    "def th_var(t, D=1, k=1, beta=1):\n",
    "    return 1/np.sqrt(k*beta) * (1-np.exp(-2*D*k*beta*t))"
   ]
  },
  {
   "cell_type": "code",
   "execution_count": 4,
   "metadata": {},
   "outputs": [],
   "source": [
    "method = 'lang'\n",
    "max_t = 10\n",
    "dt = 0.1\n",
    "x0 = 2\n",
    "D = 1\n",
    "beta = 1\n",
    "k = 1\n",
    "num_steps = int(max_t/dt)"
   ]
  },
  {
   "cell_type": "code",
   "execution_count": 20,
   "metadata": {},
   "outputs": [],
   "source": [
    "All_Ns = [100, 200, 500, 700, 1000, 2000, 5000, 7000, 10000, 20000, 30000, 40000, 50000, 60000, 70000]"
   ]
  },
  {
   "cell_type": "code",
   "execution_count": 21,
   "metadata": {},
   "outputs": [
    {
     "name": "stderr",
     "output_type": "stream",
     "text": [
      "100%|██████████| 10/10 [00:00<00:00, 31.96it/s]\n",
      "100%|██████████| 10/10 [00:00<00:00, 15.75it/s]\n",
      "100%|██████████| 10/10 [00:01<00:00,  5.74it/s]\n",
      "100%|██████████| 10/10 [00:02<00:00,  4.90it/s]\n",
      "100%|██████████| 10/10 [00:02<00:00,  3.53it/s]\n",
      "100%|██████████| 10/10 [00:05<00:00,  1.86it/s]\n",
      "100%|██████████| 10/10 [00:13<00:00,  1.33s/it]\n",
      "100%|██████████| 10/10 [00:18<00:00,  1.87s/it]\n",
      "100%|██████████| 10/10 [00:26<00:00,  2.65s/it]\n",
      "100%|██████████| 10/10 [00:53<00:00,  5.32s/it]\n",
      "100%|██████████| 10/10 [01:20<00:00,  8.03s/it]\n",
      "100%|██████████| 10/10 [01:46<00:00, 10.68s/it]\n",
      "100%|██████████| 10/10 [02:12<00:00, 13.29s/it]\n",
      "100%|██████████| 10/10 [02:38<00:00, 15.85s/it]\n",
      "100%|██████████| 10/10 [03:05<00:00, 18.54s/it]\n"
     ]
    }
   ],
   "source": [
    "RMSD_mean_mean = []\n",
    "RMSD_mean_std = []\n",
    "\n",
    "RMSD_var_mean = []\n",
    "RMSD_var_std = []\n",
    "\n",
    "for i, N in enumerate(All_Ns):\n",
    "    RMSD_mean = []\n",
    "    RMSD_var = []\n",
    "    for _ in tqdm(range(10)):\n",
    "        ts, xs = simulate(harmonic_potential(k=k), method=method,\n",
    "                              num_particles=N, dt=dt, max_t=max_t,\n",
    "                              x0=x0, D=D, beta=beta)\n",
    "\n",
    "        mean_predict = th_mean(ts, x0)\n",
    "        mean_sim = np.mean(xs, axis=1)\n",
    "        RMSD_mean.append(np.sqrt(np.mean((mean_sim-mean_predict)**2)))\n",
    "\n",
    "        var_predict = th_var(ts)\n",
    "        var_sim = np.var(xs, axis=1)\n",
    "        RMSD_var.append(np.sqrt(np.mean((var_sim-var_predict)**2)))\n",
    "    \n",
    "    RMSD_mean_mean.append(np.mean(RMSD_mean))\n",
    "    RMSD_mean_std.append(np.std(RMSD_mean))\n",
    "    \n",
    "    RMSD_var_mean.append(np.mean(RMSD_var))\n",
    "    RMSD_var_std.append(np.std(RMSD_var))"
   ]
  },
  {
   "cell_type": "code",
   "execution_count": 22,
   "metadata": {},
   "outputs": [
    {
     "data": {
      "text/plain": [
       "[<matplotlib.lines.Line2D at 0x7fe8e50fa6a0>]"
      ]
     },
     "execution_count": 22,
     "metadata": {},
     "output_type": "execute_result"
    },
    {
     "data": {
      "image/png": "[encoded data removed]",
      "text/plain": [
       "<Figure size 432x288 with 1 Axes>"
      ]
     },
     "metadata": {},
     "output_type": "display_data"
    }
   ],
   "source": [
    "plt.plot(All_Ns, RMSD_var_std, 'o')"
   ]
  },
  {
   "cell_type": "code",
   "execution_count": 24,
   "metadata": {},
   "outputs": [
    {
     "name": "stderr",
     "output_type": "stream",
     "text": [
      "\n",
      "  0%|          | 0/10 [00:00<?, ?it/s]\u001b[A\n",
      " 20%|██        | 2/10 [00:00<00:00, 14.87it/s]\u001b[A\n",
      " 40%|████      | 4/10 [00:00<00:00, 15.50it/s]\u001b[A\n",
      " 60%|██████    | 6/10 [00:00<00:00, 15.49it/s]\u001b[A\n",
      " 80%|████████  | 8/10 [00:00<00:00, 15.58it/s]\u001b[A\n",
      "100%|██████████| 10/10 [00:00<00:00, 15.58it/s]\u001b[A\n",
      "\u001b[A\n",
      "  0%|          | 0/10 [00:00<?, ?it/s]\u001b[A\n",
      " 10%|█         | 1/10 [00:00<00:01,  7.66it/s]\u001b[A\n",
      " 20%|██        | 2/10 [00:00<00:01,  7.84it/s]\u001b[A\n",
      " 30%|███       | 3/10 [00:00<00:00,  7.87it/s]\u001b[A\n",
      " 40%|████      | 4/10 [00:00<00:00,  7.46it/s]\u001b[A\n",
      " 50%|█████     | 5/10 [00:00<00:00,  7.26it/s]\u001b[A\n",
      " 60%|██████    | 6/10 [00:00<00:00,  7.38it/s]\u001b[A\n",
      " 70%|███████   | 7/10 [00:00<00:00,  7.32it/s]\u001b[A\n",
      " 80%|████████  | 8/10 [00:01<00:00,  7.46it/s]\u001b[A\n",
      " 90%|█████████ | 9/10 [00:01<00:00,  7.54it/s]\u001b[A\n",
      "100%|██████████| 10/10 [00:01<00:00,  7.59it/s]\u001b[A\n",
      "\u001b[A\n",
      "  0%|          | 0/10 [00:00<?, ?it/s]\u001b[A\n",
      " 10%|█         | 1/10 [00:00<00:03,  2.86it/s]\u001b[A\n",
      " 20%|██        | 2/10 [00:00<00:02,  3.14it/s]\u001b[A\n",
      " 30%|███       | 3/10 [00:00<00:02,  3.16it/s]\u001b[A\n",
      " 40%|████      | 4/10 [00:01<00:01,  3.22it/s]\u001b[A\n",
      "100%|██████████| 10/10 [00:02<00:00,  3.42it/s]\n",
      "100%|██████████| 10/10 [00:03<00:00,  2.60it/s]\n",
      "100%|██████████| 10/10 [00:05<00:00,  1.84it/s]\n",
      "100%|██████████| 10/10 [00:10<00:00,  1.08s/it]\n",
      "100%|██████████| 10/10 [00:27<00:00,  2.72s/it]\n",
      "100%|██████████| 10/10 [00:36<00:00,  3.69s/it]\n",
      "100%|██████████| 10/10 [00:52<00:00,  5.27s/it]\n",
      "100%|██████████| 10/10 [01:44<00:00, 10.48s/it]\n",
      "100%|██████████| 10/10 [02:37<00:00, 15.75s/it]\n",
      "100%|██████████| 10/10 [03:32<00:00, 21.22s/it]\n",
      "100%|██████████| 10/10 [04:29<00:00, 26.98s/it]\n",
      "100%|██████████| 10/10 [05:22<00:00, 32.25s/it]\n",
      "100%|██████████| 10/10 [06:16<00:00, 37.68s/it]\n"
     ]
    }
   ],
   "source": [
    "dt = 0.05\n",
    "\n",
    "RMSD_mean_mean2 = []\n",
    "RMSD_mean_std2 = []\n",
    "\n",
    "RMSD_var_mean2 = []\n",
    "RMSD_var_std2 = []\n",
    "\n",
    "for i, N in enumerate(All_Ns):\n",
    "    RMSD_mean = []\n",
    "    RMSD_var = []\n",
    "    for _ in tqdm(range(10)):\n",
    "        ts, xs = simulate(harmonic_potential(k=k), method=method,\n",
    "                              num_particles=N, dt=dt, max_t=max_t,\n",
    "                              x0=x0, D=D, beta=beta)\n",
    "\n",
    "        mean_predict = th_mean(ts, x0)\n",
    "        mean_sim = np.mean(xs, axis=1)\n",
    "        RMSD_mean.append(np.sqrt(np.mean((mean_sim-mean_predict)**2)))\n",
    "\n",
    "        var_predict = th_var(ts)\n",
    "        var_sim = np.var(xs, axis=1)\n",
    "        RMSD_var.append(np.sqrt(np.mean((var_sim-var_predict)**2)))\n",
    "    \n",
    "    RMSD_mean_mean2.append(np.mean(RMSD_mean))\n",
    "    RMSD_mean_std2.append(np.std(RMSD_mean))\n",
    "    \n",
    "    RMSD_var_mean2.append(np.mean(RMSD_var))\n",
    "    RMSD_var_std2.append(np.std(RMSD_var))"
   ]
  },
  {
   "cell_type": "code",
   "execution_count": 25,
   "metadata": {},
   "outputs": [
    {
     "data": {
      "text/plain": [
       "[<matplotlib.lines.Line2D at 0x7fe8e50ca4e0>]"
      ]
     },
     "execution_count": 25,
     "metadata": {},
     "output_type": "execute_result"
    },
    {
     "data": {
      "image/png": "[encoded data removed]",
      "text/plain": [
       "<Figure size 432x288 with 1 Axes>"
      ]
     },
     "metadata": {},
     "output_type": "display_data"
    }
   ],
   "source": [
    "plt.plot(All_Ns, RMSD_var_std2, 'o')"
   ]
  },
  {
   "cell_type": "code",
   "execution_count": 27,
   "metadata": {},
   "outputs": [],
   "source": [
    "with open('../data/harmonic_RMSD.data', 'w') as f:\n",
    "    for N, rm1, drm1, rv1, drv1, rm2, drm2, rv2, drv2 in zip(All_Ns,\n",
    "                                                             RMSD_mean_mean, RMSD_mean_std, RMSD_var_mean, RMSD_var_std,\n",
    "                                                             RMSD_mean_mean2, RMSD_mean_std2, RMSD_var_mean2, RMSD_var_std2):\n",
    "        f.write('{} {} {} {} {} {} {} {} {}\\n'.format(N,\n",
    "                                                      rm1, drm1, rv1, drv1,\n",
    "                                                      rm2, drm2, rv2, drv2))"
   ]
  },
  {
   "cell_type": "code",
   "execution_count": null,
   "metadata": {},
   "outputs": [],
   "source": []
  }
 ],
 "metadata": {
  "kernelspec": {
   "display_name": "Python 3",
   "language": "python",
   "name": "python3"
  },
  "language_info": {
   "codemirror_mode": {
    "name": "ipython",
    "version": 3
   },
   "file_extension": ".py",
   "mimetype": "text/x-python",
   "name": "python",
   "nbconvert_exporter": "python",
   "pygments_lexer": "ipython3",
   "version": "3.5.5"
  }
 },
 "nbformat": 4,
 "nbformat_minor": 2
}
