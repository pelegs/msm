{
 "cells": [
  {
   "cell_type": "code",
   "execution_count": 1,
   "metadata": {},
   "outputs": [],
   "source": [
    "from matplotlib import pyplot as plt \n",
    "import numpy as np  \n",
    "%matplotlib inline"
   ]
  },
  {
   "cell_type": "code",
   "execution_count": 2,
   "metadata": {},
   "outputs": [],
   "source": [
    "import sys\n",
    "sys.path.append('../lib')\n",
    "from simlib import *"
   ]
  },
  {
   "cell_type": "code",
   "execution_count": 22,
   "metadata": {},
   "outputs": [],
   "source": [
    "def th_mean(t, x0=0, D=1, k=1, beta=1):\n",
    "    return x0 * np.exp(-D*k*beta*t)\n",
    "\n",
    "def th_var(t, D=1, k=1, beta=1):\n",
    "    return 1/np.sqrt(k*beta) * (1-np.exp(-2*D*k*beta*t))"
   ]
  },
  {
   "cell_type": "code",
   "execution_count": 5,
   "metadata": {},
   "outputs": [],
   "source": [
    "method = 'lang'\n",
    "num_particles = 1000\n",
    "max_t = 10\n",
    "dt = 0.01\n",
    "x0 = 2\n",
    "D = 1\n",
    "beta = 1\n",
    "k = 1\n",
    "num_steps = int(max_t/dt)"
   ]
  },
  {
   "cell_type": "code",
   "execution_count": 44,
   "metadata": {},
   "outputs": [],
   "source": [
    "Ns = [100, 300, 500, 700, 1000, 5000, 10000, 50000]"
   ]
  },
  {
   "cell_type": "code",
   "execution_count": 45,
   "metadata": {},
   "outputs": [
    {
     "name": "stderr",
     "output_type": "stream",
     "text": [
      "100%|██████████| 999/999 [00:00<00:00, 2876.96it/s]\n",
      "100%|██████████| 999/999 [00:00<00:00, 1302.16it/s]\n",
      "100%|██████████| 999/999 [00:01<00:00, 930.61it/s]\n",
      "100%|██████████| 999/999 [00:01<00:00, 728.07it/s]\n",
      "100%|██████████| 999/999 [00:01<00:00, 563.40it/s]\n",
      "100%|██████████| 999/999 [00:02<00:00, 451.22it/s]\n",
      "100%|██████████| 999/999 [00:02<00:00, 403.33it/s]\n",
      "100%|██████████| 999/999 [00:02<00:00, 369.73it/s]\n",
      "100%|██████████| 999/999 [00:03<00:00, 309.40it/s]\n",
      "100%|██████████| 999/999 [00:03<00:00, 288.24it/s]\n",
      "100%|██████████| 999/999 [00:07<00:00, 139.50it/s]\n",
      "100%|██████████| 999/999 [00:11<00:00, 89.27it/s]\n",
      "100%|██████████| 999/999 [00:13<00:00, 72.26it/s]\n",
      "100%|██████████| 999/999 [00:18<00:00, 55.21it/s]\n"
     ]
    }
   ],
   "source": [
    "RMSD_mean = []\n",
    "RMSD_var = []\n",
    "\n",
    "for i, N in enumerate(Ns):\n",
    "    ts, xs = simulate(harmonic_potential(k=k), method=method,\n",
    "                      num_particles=N, dt=dt, max_t=max_t,\n",
    "                      x0=x0, D=D, beta=beta)\n",
    "    \n",
    "    mean_predict = th_mean(ts, x0)\n",
    "    mean_sim = np.mean(xs, axis=1)\n",
    "    RMSD_mean.append(np.sqrt(np.mean((mean_sim-mean_predict)**2)))\n",
    "    \n",
    "    var_predict = th_var(ts)\n",
    "    var_sim = np.var(xs, axis=1)\n",
    "    RMSD_var.append(np.sqrt(np.mean((var_sim-var_predict)**2)))"
   ]
  },
  {
   "cell_type": "code",
   "execution_count": 46,
   "metadata": {},
   "outputs": [
    {
     "data": {
      "text/plain": [
       "[<matplotlib.lines.Line2D at 0x7f5290a29be0>]"
      ]
     },
     "execution_count": 46,
     "metadata": {},
     "output_type": "execute_result"
    },
    {
     "data": {
      "image/png": "[encoded data removed]",
      "text/plain": [
       "<Figure size 432x288 with 1 Axes>"
      ]
     },
     "metadata": {},
     "output_type": "display_data"
    }
   ],
   "source": [
    "plt.plot(Ns, RMSD_mean)\n",
    "plt.plot(Ns, RMSD_var)\n",
    "plt.plot(Ns, 1/np.sqrt(Ns))"
   ]
  },
  {
   "cell_type": "code",
   "execution_count": null,
   "metadata": {},
   "outputs": [],
   "source": []
  }
 ],
 "metadata": {
  "kernelspec": {
   "display_name": "Python 3",
   "language": "python",
   "name": "python3"
  },
  "language_info": {
   "codemirror_mode": {
    "name": "ipython",
    "version": 3
   },
   "file_extension": ".py",
   "mimetype": "text/x-python",
   "name": "python",
   "nbconvert_exporter": "python",
   "pygments_lexer": "ipython3",
   "version": "3.5.5"
  }
 },
 "nbformat": 4,
 "nbformat_minor": 2
}
