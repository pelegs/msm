{
 "cells": [
  {
   "cell_type": "code",
   "execution_count": 1,
   "metadata": {},
   "outputs": [],
   "source": [
    "from matplotlib import pyplot as plt \n",
    "import numpy as np  \n",
    "%matplotlib inline\n",
    "from scipy.special import erf"
   ]
  },
  {
   "cell_type": "code",
   "execution_count": null,
   "metadata": {},
   "outputs": [],
   "source": [
    "def gen_int(x, m, s):\n",
    "    return s*erf(x/(np.sqrt(2)*s))/(2*np.abs(s))\n",
    "\n",
    "def integral(x1, x2, m, s):\n",
    "    return gen_int(x2, m, s) - gen_int(x1, m, s)"
   ]
  },
  {
   "cell_type": "code",
   "execution_count": 27,
   "metadata": {},
   "outputs": [],
   "source": [
    "def test(N=1000, m=0, s=1, L=-5, R=5, num_bins=100):\n",
    "    bins = np.linspace(L, R, num_bins)\n",
    "    nums = np.random.normal(m, s, size=N)\n",
    "    hist, _ = np.histogram(nums, bins=bins)\n",
    "    return hist"
   ]
  },
  {
   "cell_type": "code",
   "execution_count": 110,
   "metadata": {},
   "outputs": [],
   "source": [
    "N = 100000\n",
    "num_bins = 100\n",
    "L = -5\n",
    "R = 5\n",
    "m = 0\n",
    "s = 1\n",
    "num_rep = 20\n",
    "hs = []\n",
    "for i in range(num_rep):\n",
    "    hs.append(test(N, m, s, L, R, num_bins))\n",
    "hs = np.array(hs)\n",
    "means = np.mean(hs, axis=0)"
   ]
  },
  {
   "cell_type": "code",
   "execution_count": 111,
   "metadata": {},
   "outputs": [
    {
     "data": {
      "text/plain": [
       "[<matplotlib.lines.Line2D at 0x7f92203bde48>]"
      ]
     },
     "execution_count": 111,
     "metadata": {},
     "output_type": "execute_result"
    },
    {
     "data": {
      "image/png": "[encoded data removed]",
      "text/plain": [
       "<Figure size 432x288 with 1 Axes>"
      ]
     },
     "metadata": {},
     "output_type": "display_data"
    }
   ],
   "source": [
    "bins = np.linspace(L, R, num_bins)\n",
    "expected = N * np.array([integral(bins[i], bins[i+1], m, s) for i, _ in enumerate(bins[:-1])])\n",
    "plt.plot(expected)\n",
    "plt.plot(means)"
   ]
  },
  {
   "cell_type": "code",
   "execution_count": 112,
   "metadata": {},
   "outputs": [],
   "source": [
    "k = [0 if (e-np.sqrt(e) <= h <= e+np.sqrt(e)) else 1 for h, e in zip(means,expected)]"
   ]
  },
  {
   "cell_type": "code",
   "execution_count": 113,
   "metadata": {},
   "outputs": [
    {
     "data": {
      "text/plain": [
       "0"
      ]
     },
     "execution_count": 113,
     "metadata": {},
     "output_type": "execute_result"
    }
   ],
   "source": [
    "np.sum(k)"
   ]
  },
  {
   "cell_type": "code",
   "execution_count": null,
   "metadata": {},
   "outputs": [],
   "source": []
  }
 ],
 "metadata": {
  "kernelspec": {
   "display_name": "Python 3",
   "language": "python",
   "name": "python3"
  },
  "language_info": {
   "codemirror_mode": {
    "name": "ipython",
    "version": 3
   },
   "file_extension": ".py",
   "mimetype": "text/x-python",
   "name": "python",
   "nbconvert_exporter": "python",
   "pygments_lexer": "ipython3",
   "version": "3.5.5"
  }
 },
 "nbformat": 4,
 "nbformat_minor": 2
}
