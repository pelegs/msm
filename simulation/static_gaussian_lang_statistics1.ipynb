{
 "cells": [
  {
   "cell_type": "code",
   "execution_count": 2,
   "metadata": {},
   "outputs": [],
   "source": [
    "from matplotlib import pyplot as plt \n",
    "import numpy as np\n",
    "from scipy.special import erf\n",
    "%matplotlib inline"
   ]
  },
  {
   "cell_type": "code",
   "execution_count": 3,
   "metadata": {},
   "outputs": [],
   "source": [
    "import sys\n",
    "sys.path.append('../lib')\n",
    "from simlib import *"
   ]
  },
  {
   "cell_type": "code",
   "execution_count": 4,
   "metadata": {},
   "outputs": [],
   "source": [
    "def gen_int(x, m, s):\n",
    "    return s*erf(x/(np.sqrt(2)*s))/(2*np.abs(s))\n",
    "\n",
    "def integral(x1, x2, m, s):\n",
    "    return gen_int(x2, m, s) - gen_int(x1, m, s)"
   ]
  },
  {
   "cell_type": "code",
   "execution_count": 5,
   "metadata": {},
   "outputs": [],
   "source": [
    "method = 'lang'\n",
    "m, s = 0.0, 1.0\n",
    "ks = []"
   ]
  },
  {
   "cell_type": "code",
   "execution_count": 6,
   "metadata": {},
   "outputs": [
    {
     "name": "stderr",
     "output_type": "stream",
     "text": [
      "100%|██████████| 9999/9999 [05:19<00:00, 31.32it/s]\n"
     ]
    }
   ],
   "source": [
    "num_particles = 1000\n",
    "g1 = gaussian()\n",
    "U = gaussian_potential([g1])\n",
    "max_t = 1000\n",
    "dt = 0.1\n",
    "\n",
    "ts, xs = simulate(U, method=method, num_particles=num_particles, max_t=max_t, x0=0, D=0.5)\n",
    "\n",
    "num_bins = 150\n",
    "bins = np.linspace(-5, 5, num_bins)\n",
    "hists = np.zeros(shape=(num_particles, num_bins))\n",
    "hists = [np.histogram(xs[:,i], bins)[0] for i in range(num_particles)]\n",
    "hists = np.array(hists)\n",
    "mean_hists = np.zeros(shape=num_bins)\n",
    "for i, _ in enumerate(bins[:-1]):\n",
    "    mean_hists[i] = np.mean(hists[:,i])\n",
    "\n",
    "N = max_t/dt\n",
    "expected = N * np.array([integral(bins[i], bins[i+1], m, s) for i, _ in enumerate(bins[:-1])])\n",
    "\n",
    "k = [0 if (e-np.sqrt(e) <= h <= e+np.sqrt(e)) else 1 for h, e in zip(mean_hists, expected)]\n",
    "ks.append(k)"
   ]
  },
  {
   "cell_type": "code",
   "execution_count": 8,
   "metadata": {},
   "outputs": [
    {
     "data": {
      "text/plain": [
       "0"
      ]
     },
     "execution_count": 8,
     "metadata": {},
     "output_type": "execute_result"
    }
   ],
   "source": [
    "np.sum(ks[0])"
   ]
  },
  {
   "cell_type": "code",
   "execution_count": null,
   "metadata": {},
   "outputs": [],
   "source": []
  }
 ],
 "metadata": {
  "kernelspec": {
   "display_name": "Python 3",
   "language": "python",
   "name": "python3"
  },
  "language_info": {
   "codemirror_mode": {
    "name": "ipython",
    "version": 3
   },
   "file_extension": ".py",
   "mimetype": "text/x-python",
   "name": "python",
   "nbconvert_exporter": "python",
   "pygments_lexer": "ipython3",
   "version": "3.5.5"
  }
 },
 "nbformat": 4,
 "nbformat_minor": 2
}
