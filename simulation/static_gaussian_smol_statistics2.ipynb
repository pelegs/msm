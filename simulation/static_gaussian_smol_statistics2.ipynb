{
 "cells": [
  {
   "cell_type": "code",
   "execution_count": 1,
   "metadata": {},
   "outputs": [],
   "source": [
    "from matplotlib import pyplot as plt \n",
    "import numpy as np\n",
    "from scipy.special import erf\n",
    "%matplotlib inline"
   ]
  },
  {
   "cell_type": "code",
   "execution_count": 2,
   "metadata": {},
   "outputs": [],
   "source": [
    "import sys\n",
    "sys.path.append('../lib')\n",
    "from simlib import *"
   ]
  },
  {
   "cell_type": "code",
   "execution_count": 3,
   "metadata": {},
   "outputs": [],
   "source": [
    "def gen_int(x, m, s):\n",
    "    return s*erf((x-m)/(np.sqrt(2)*s))/(2*np.abs(s))\n",
    "\n",
    "def integral(x1, x2, m1, s1, m2, s2):\n",
    "    return 0.5 * (gen_int(x2, m1, s1) - gen_int(x1, m1, s1) + gen_int(x2, m2, s2) - gen_int(x1, m2, s2))"
   ]
  },
  {
   "cell_type": "code",
   "execution_count": 4,
   "metadata": {},
   "outputs": [],
   "source": [
    "method = 'smol'\n",
    "m1, s1 = -3.0, 1.0\n",
    "m2, s2 = +3.0, 1.0\n",
    "ks = []"
   ]
  },
  {
   "cell_type": "code",
   "execution_count": 5,
   "metadata": {},
   "outputs": [
    {
     "name": "stderr",
     "output_type": "stream",
     "text": [
      "100%|██████████| 14999/14999 [11:09<00:00, 22.40it/s]\n"
     ]
    },
    {
     "data": {
      "image/png": "[encoded data removed]",
      "text/plain": [
       "<Figure size 432x288 with 1 Axes>"
      ]
     },
     "metadata": {},
     "output_type": "display_data"
    }
   ],
   "source": [
    "num_particles = 1100\n",
    "g1 = gaussian(-3)\n",
    "g2 = gaussian(+3)\n",
    "U = gaussian_potential([g1, g2])\n",
    "max_t = 1500\n",
    "dt = 0.1\n",
    "\n",
    "ts, xs = simulate(U, method=method, num_particles=num_particles, max_t=max_t, x0=0, D=1.0)\n",
    "\n",
    "num_bins = 200\n",
    "bins = np.linspace(-10, 10, num_bins)\n",
    "hists = np.zeros(shape=(num_particles, num_bins))\n",
    "hists = [np.histogram(xs[:,i], bins)[0] for i in range(num_particles)]\n",
    "hists = np.array(hists)\n",
    "mean_hists = np.zeros(shape=num_bins)\n",
    "for i, _ in enumerate(bins[:-1]):\n",
    "    mean_hists[i] = np.mean(hists[:,i])\n",
    "\n",
    "N = max_t/dt\n",
    "expected = N * np.array([integral(bins[i], bins[i+1], m1, s1, m2, s2) for i, _ in enumerate(bins[:-1])])\n",
    "\n",
    "plt.plot(bins[:-1], expected)\n",
    "plt.plot(bins, mean_hists)\n",
    "\n",
    "k = [0 if (e-np.sqrt(e) <= h <= e+np.sqrt(e)) else 1 for h, e in zip(mean_hists, expected)]\n",
    "ks.append(k)"
   ]
  },
  {
   "cell_type": "code",
   "execution_count": 9,
   "metadata": {},
   "outputs": [],
   "source": [
    "N = max_t/dt\n",
    "expected = N * np.array([integral(bins[i], bins[i+1], m1, s1, m2, s2) for i, _ in enumerate(bins[:-1])])"
   ]
  },
  {
   "cell_type": "code",
   "execution_count": 11,
   "metadata": {},
   "outputs": [
    {
     "data": {
      "text/plain": [
       "3"
      ]
     },
     "execution_count": 11,
     "metadata": {},
     "output_type": "execute_result"
    }
   ],
   "source": [
    "k = [0 if (e-np.sqrt(e) <= h <= e+np.sqrt(e)) else 1 for h, e in zip(mean_hists, expected)]\n",
    "np.sum(k)"
   ]
  },
  {
   "cell_type": "code",
   "execution_count": null,
   "metadata": {},
   "outputs": [],
   "source": []
  }
 ],
 "metadata": {
  "kernelspec": {
   "display_name": "Python 3",
   "language": "python",
   "name": "python3"
  },
  "language_info": {
   "codemirror_mode": {
    "name": "ipython",
    "version": 3
   },
   "file_extension": ".py",
   "mimetype": "text/x-python",
   "name": "python",
   "nbconvert_exporter": "python",
   "pygments_lexer": "ipython3",
   "version": "3.5.5"
  }
 },
 "nbformat": 4,
 "nbformat_minor": 2
}
