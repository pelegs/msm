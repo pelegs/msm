{
 "cells": [
  {
   "cell_type": "code",
   "execution_count": 1,
   "metadata": {},
   "outputs": [],
   "source": [
    "from matplotlib import pyplot as plt \n",
    "import numpy as np  \n",
    "%matplotlib inline"
   ]
  },
  {
   "cell_type": "code",
   "execution_count": 2,
   "metadata": {},
   "outputs": [],
   "source": [
    "import sys\n",
    "sys.path.append('../lib')\n",
    "from simlib import *"
   ]
  },
  {
   "cell_type": "code",
   "execution_count": 3,
   "metadata": {},
   "outputs": [
    {
     "name": "stderr",
     "output_type": "stream",
     "text": [
      "100%|██████████| 199/199 [00:06<00:00, 32.26it/s]\n",
      "100%|██████████| 199/199 [00:05<00:00, 39.12it/s]\n"
     ]
    },
    {
     "ename": "ValueError",
     "evalue": "too many values to unpack (expected 2)",
     "output_type": "error",
     "traceback": [
      "\u001b[0;31m---------------------------------------------------------------------------\u001b[0m",
      "\u001b[0;31mValueError\u001b[0m                                Traceback (most recent call last)",
      "\u001b[0;32m<ipython-input-3-4d88ba4ffeb5>\u001b[0m in \u001b[0;36m<module>\u001b[0;34m()\u001b[0m\n\u001b[1;32m      5\u001b[0m     \u001b[0mts1\u001b[0m\u001b[0;34m,\u001b[0m \u001b[0mxs1\u001b[0m \u001b[0;34m=\u001b[0m \u001b[0msimulate\u001b[0m\u001b[0;34m(\u001b[0m\u001b[0mzero_potential\u001b[0m\u001b[0;34m(\u001b[0m\u001b[0;34m)\u001b[0m\u001b[0;34m,\u001b[0m \u001b[0mmethod\u001b[0m\u001b[0;34m=\u001b[0m\u001b[0;34m'lang'\u001b[0m\u001b[0;34m,\u001b[0m \u001b[0mnum_particles\u001b[0m\u001b[0;34m=\u001b[0m\u001b[0;36m10000\u001b[0m\u001b[0;34m,\u001b[0m \u001b[0mmax_t\u001b[0m\u001b[0;34m=\u001b[0m\u001b[0;36m20\u001b[0m\u001b[0;34m,\u001b[0m \u001b[0mD\u001b[0m\u001b[0;34m=\u001b[0m\u001b[0mD\u001b[0m\u001b[0;34m)\u001b[0m\u001b[0;34m\u001b[0m\u001b[0m\n\u001b[1;32m      6\u001b[0m     \u001b[0mts2\u001b[0m\u001b[0;34m,\u001b[0m \u001b[0mxs2\u001b[0m \u001b[0;34m=\u001b[0m \u001b[0msimulate\u001b[0m\u001b[0;34m(\u001b[0m\u001b[0mzero_potential\u001b[0m\u001b[0;34m(\u001b[0m\u001b[0;34m)\u001b[0m\u001b[0;34m,\u001b[0m \u001b[0mmethod\u001b[0m\u001b[0;34m=\u001b[0m\u001b[0;34m'smol'\u001b[0m\u001b[0;34m,\u001b[0m \u001b[0mnum_particles\u001b[0m\u001b[0;34m=\u001b[0m\u001b[0;36m10000\u001b[0m\u001b[0;34m,\u001b[0m \u001b[0mmax_t\u001b[0m\u001b[0;34m=\u001b[0m\u001b[0;36m20\u001b[0m\u001b[0;34m,\u001b[0m \u001b[0mD\u001b[0m\u001b[0;34m=\u001b[0m\u001b[0mD\u001b[0m\u001b[0;34m)\u001b[0m\u001b[0;34m\u001b[0m\u001b[0m\n\u001b[0;32m----> 7\u001b[0;31m     \u001b[0msim_MSD1\u001b[0m\u001b[0;34m,\u001b[0m \u001b[0msim_stdev1\u001b[0m \u001b[0;34m=\u001b[0m \u001b[0mMSD\u001b[0m\u001b[0;34m(\u001b[0m\u001b[0mxs1\u001b[0m\u001b[0;34m)\u001b[0m\u001b[0;34m\u001b[0m\u001b[0m\n\u001b[0m\u001b[1;32m      8\u001b[0m     \u001b[0msim_MSD2\u001b[0m\u001b[0;34m,\u001b[0m \u001b[0msim_stdev2\u001b[0m \u001b[0;34m=\u001b[0m \u001b[0mMSD\u001b[0m\u001b[0;34m(\u001b[0m\u001b[0mxs2\u001b[0m\u001b[0;34m)\u001b[0m\u001b[0;34m\u001b[0m\u001b[0m\n\u001b[1;32m      9\u001b[0m     \u001b[0mm1\u001b[0m\u001b[0;34m,\u001b[0m \u001b[0mcov1\u001b[0m \u001b[0;34m=\u001b[0m \u001b[0mnp\u001b[0m\u001b[0;34m.\u001b[0m\u001b[0mpolyfit\u001b[0m\u001b[0;34m(\u001b[0m\u001b[0mts1\u001b[0m\u001b[0;34m[\u001b[0m\u001b[0;34m:\u001b[0m\u001b[0;34m-\u001b[0m\u001b[0;36m1\u001b[0m\u001b[0;34m]\u001b[0m\u001b[0;34m,\u001b[0m \u001b[0msim_MSD1\u001b[0m\u001b[0;34m,\u001b[0m \u001b[0;36m1\u001b[0m\u001b[0;34m,\u001b[0m \u001b[0mcov\u001b[0m\u001b[0;34m=\u001b[0m\u001b[0;32mTrue\u001b[0m\u001b[0;34m)\u001b[0m\u001b[0;34m\u001b[0m\u001b[0m\n",
      "\u001b[0;31mValueError\u001b[0m: too many values to unpack (expected 2)"
     ]
    }
   ],
   "source": [
    "ms1, stdevs1 = [], []\n",
    "ms2, stdevs2 = [], []\n",
    "Ds = np.arange(0.1, 5.5, 0.1)\n",
    "for D in Ds:\n",
    "    ts1, xs1 = simulate(zero_potential(), method='lang', num_particles=10000, max_t=20, D=D)\n",
    "    ts2, xs2 = simulate(zero_potential(), method='smol', num_particles=10000, max_t=20, D=D)\n",
    "    sim_MSD1, sim_stdev1 = MSD(xs1)\n",
    "    sim_MSD2, sim_stdev2 = MSD(xs2)\n",
    "    m1, cov1 = np.polyfit(ts1[:-1], sim_MSD1, 1, cov=True)\n",
    "    m2, cov2 = np.polyfit(ts2[:-1], sim_MSD2, 1, cov=True)\n",
    "    ms1.append(m1[0])\n",
    "    ms2.append(m2[0])\n",
    "    stdev1 = np.sqrt(np.diag(cov1))[0]\n",
    "    stdev2 = np.sqrt(np.diag(cov2))[0]\n",
    "    stdevs1.append(stdev1)\n",
    "    stdevs2.append(stdev2)"
   ]
  },
  {
   "cell_type": "code",
   "execution_count": null,
   "metadata": {},
   "outputs": [],
   "source": [
    "plt.errorbar(Ds, ms1, yerr=stdevs1, fmt='o')\n",
    "plt.plot(Ds, ms1, '*')\n",
    "\n",
    "#plt.plot(Ds, ms2, '*')"
   ]
  },
  {
   "cell_type": "code",
   "execution_count": null,
   "metadata": {},
   "outputs": [],
   "source": [
    "with open('../data/MSD.data', 'w') as f:\n",
    "    for D, m1, err1, m2, err2 in zip(Ds, ms1, stdevs1, ms2, stdevs2):\n",
    "        f.write('{} {} {} {} {}\\n'.format(D, m1, err1, m2, err2))"
   ]
  }
 ],
 "metadata": {
  "kernelspec": {
   "display_name": "Python 3",
   "language": "python",
   "name": "python3"
  },
  "language_info": {
   "codemirror_mode": {
    "name": "ipython",
    "version": 3
   },
   "file_extension": ".py",
   "mimetype": "text/x-python",
   "name": "python",
   "nbconvert_exporter": "python",
   "pygments_lexer": "ipython3",
   "version": "3.5.5"
  }
 },
 "nbformat": 4,
 "nbformat_minor": 2
}
