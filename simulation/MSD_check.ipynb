{
 "cells": [
  {
   "cell_type": "code",
   "execution_count": 10,
   "metadata": {},
   "outputs": [],
   "source": [
    "from matplotlib import pyplot as plt \n",
    "import numpy as np  \n",
    "%matplotlib inline"
   ]
  },
  {
   "cell_type": "code",
   "execution_count": 11,
   "metadata": {},
   "outputs": [],
   "source": [
    "import sys\n",
    "sys.path.append('../lib')\n",
    "from simlib import *"
   ]
  },
  {
   "cell_type": "code",
   "execution_count": 12,
   "metadata": {},
   "outputs": [],
   "source": [
    "ts, xs, bins, bin_edges = simulate(method='langevin', num_particles=10000, max_t=10)"
   ]
  },
  {
   "cell_type": "code",
   "execution_count": 13,
   "metadata": {},
   "outputs": [],
   "source": [
    "sim_MSD, sim_stdev = MSD(xs)"
   ]
  },
  {
   "cell_type": "code",
   "execution_count": 14,
   "metadata": {},
   "outputs": [],
   "source": [
    "m, cov = np.polyfit(ts[:-1], sim_MSD, 1, cov=True)"
   ]
  },
  {
   "cell_type": "code",
   "execution_count": 18,
   "metadata": {},
   "outputs": [
    {
     "data": {
      "text/plain": [
       "(1.9964362955597736, 0.0018606932487211696)"
      ]
     },
     "execution_count": 18,
     "metadata": {},
     "output_type": "execute_result"
    }
   ],
   "source": [
    "a = np.sqrt(np.diag(cov))\n",
    "m[0], a[0]"
   ]
  },
  {
   "cell_type": "code",
   "execution_count": 42,
   "metadata": {},
   "outputs": [],
   "source": [
    "ms1, stdevs1 = [], []\n",
    "ms2, stdevs2 = [], []\n",
    "Ds = np.arange(0.1, 5.5, 0.5)\n",
    "for D in Ds:\n",
    "    ts1, xs1, _, _ = simulate(method='langevin', num_particles=10000, max_t=20, D=D)\n",
    "    ts2, xs2, _, _ = simulate(method='smol',     num_particles=10000, max_t=20, D=D)\n",
    "    sim_MSD1, sim_stdev1 = MSD(xs1)\n",
    "    sim_MSD2, sim_stdev2 = MSD(xs2)\n",
    "    m1, cov1 = np.polyfit(ts1[:-1], sim_MSD1, 1, cov=True)\n",
    "    m2, cov2 = np.polyfit(ts2[:-1], sim_MSD2, 1, cov=True)\n",
    "    ms1.append(m1[0])\n",
    "    ms2.append(m2[0])\n",
    "    stdev1 = np.sqrt(np.diag(cov1))[0]\n",
    "    stdev2 = np.sqrt(np.diag(cov2))[0]\n",
    "    stdevs1.append(stdev1)\n",
    "    stdevs2.append(stdev2)"
   ]
  },
  {
   "cell_type": "code",
   "execution_count": 43,
   "metadata": {},
   "outputs": [
    {
     "data": {
      "text/plain": [
       "[<matplotlib.lines.Line2D at 0x7f2339641a58>]"
      ]
     },
     "execution_count": 43,
     "metadata": {},
     "output_type": "execute_result"
    },
    {
     "data": {
      "image/png": "[encoded data removed]",
      "text/plain": [
       "<Figure size 432x288 with 1 Axes>"
      ]
     },
     "metadata": {},
     "output_type": "display_data"
    }
   ],
   "source": [
    "plt.errorbar(Ds, ms1, yerr=stdevs1, fmt='o')\n",
    "plt.plot(Ds, ms1, '*')\n",
    "\n",
    "#plt.plot(Ds, ms2, '*')"
   ]
  },
  {
   "cell_type": "code",
   "execution_count": 50,
   "metadata": {},
   "outputs": [],
   "source": [
    "with open('../data/MSD_linear_fit', 'w') as f:\n",
    "    for D, m1, err1, m2, err2 in zip(Ds, ms1, stdevs1, ms2, stdevs2):\n",
    "        f.write('{} {} {} {} {}\\n'.format(D, m1, err1, m2, err2))"
   ]
  }
 ],
 "metadata": {
  "kernelspec": {
   "display_name": "Python 3",
   "language": "python",
   "name": "python3"
  },
  "language_info": {
   "codemirror_mode": {
    "name": "ipython",
    "version": 3
   },
   "file_extension": ".py",
   "mimetype": "text/x-python",
   "name": "python",
   "nbconvert_exporter": "python",
   "pygments_lexer": "ipython3",
   "version": "3.5.5"
  }
 },
 "nbformat": 4,
 "nbformat_minor": 2
}
