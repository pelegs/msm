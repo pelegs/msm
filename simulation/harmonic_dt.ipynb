{
 "cells": [
  {
   "cell_type": "code",
   "execution_count": 3,
   "metadata": {},
   "outputs": [],
   "source": [
    "from matplotlib import pyplot as plt \n",
    "import numpy as np  \n",
    "%matplotlib inline"
   ]
  },
  {
   "cell_type": "code",
   "execution_count": 4,
   "metadata": {},
   "outputs": [],
   "source": [
    "import sys\n",
    "sys.path.append('../lib')\n",
    "from simlib import *"
   ]
  },
  {
   "cell_type": "code",
   "execution_count": 5,
   "metadata": {},
   "outputs": [],
   "source": [
    "def mean(t, x0=0, D=1, k=1, beta=1):\n",
    "    return x0 * np.exp(-D*k*beta*t)\n",
    "\n",
    "def var(t, D=1, k=1, beta=1):\n",
    "    return 1/np.sqrt(k*beta) * (1-np.exp(-2*D*k*beta*t))"
   ]
  },
  {
   "cell_type": "code",
   "execution_count": 6,
   "metadata": {},
   "outputs": [],
   "source": [
    "method = 'lang'\n",
    "num_particles = 1000\n",
    "max_t = 10\n",
    "#dt = 0.001\n",
    "x0 = 2\n",
    "D = 1\n",
    "beta = 1\n",
    "k = 1\n",
    "num_steps = int(max_t/dt)"
   ]
  },
  {
   "cell_type": "code",
   "execution_count": 7,
   "metadata": {},
   "outputs": [],
   "source": [
    "Ns = [10, 100, 1000, 10000, 1000000]\n",
    "N = 100000"
   ]
  },
  {
   "cell_type": "code",
   "execution_count": 8,
   "metadata": {},
   "outputs": [
    {
     "name": "stderr",
     "output_type": "stream",
     "text": [
      "100%|██████████| 999/999 [00:00<00:00, 18436.54it/s]\n"
     ]
    },
    {
     "ename": "NameError",
     "evalue": "name 'mean_predict' is not defined",
     "output_type": "error",
     "traceback": [
      "\u001b[0;31m---------------------------------------------------------------------------\u001b[0m",
      "\u001b[0;31mNameError\u001b[0m                                 Traceback (most recent call last)",
      "\u001b[0;32m<ipython-input-8-c1a9a5ea6865>\u001b[0m in \u001b[0;36m<module>\u001b[0;34m()\u001b[0m\n\u001b[1;32m     11\u001b[0m     \u001b[0;31m#mean_sim.append(np.mean(xs, axis=1))\u001b[0m\u001b[0;34m\u001b[0m\u001b[0;34m\u001b[0m\u001b[0m\n\u001b[1;32m     12\u001b[0m     \u001b[0;31m#var_sim.append(np.var(xs, axis=1))\u001b[0m\u001b[0;34m\u001b[0m\u001b[0;34m\u001b[0m\u001b[0m\n\u001b[0;32m---> 13\u001b[0;31m     \u001b[0mRMSD\u001b[0m\u001b[0;34m.\u001b[0m\u001b[0mappend\u001b[0m\u001b[0;34m(\u001b[0m\u001b[0mnp\u001b[0m\u001b[0;34m.\u001b[0m\u001b[0msqrt\u001b[0m\u001b[0;34m(\u001b[0m\u001b[0mnp\u001b[0m\u001b[0;34m.\u001b[0m\u001b[0mmean\u001b[0m\u001b[0;34m(\u001b[0m\u001b[0;34m(\u001b[0m\u001b[0mmean_sim\u001b[0m\u001b[0;34m-\u001b[0m\u001b[0mmean_predict\u001b[0m\u001b[0;34m)\u001b[0m\u001b[0;34m**\u001b[0m\u001b[0;36m2\u001b[0m\u001b[0;34m)\u001b[0m\u001b[0;34m)\u001b[0m\u001b[0;34m)\u001b[0m\u001b[0;34m\u001b[0m\u001b[0m\n\u001b[0m",
      "\u001b[0;31mNameError\u001b[0m: name 'mean_predict' is not defined"
     ]
    }
   ],
   "source": [
    "RMSD = []\n",
    "mean_sim = []\n",
    "var_sim = []\n",
    "times = []\n",
    "dt = 0.01\n",
    "for i, N in enumerate(Ns):\n",
    "    ts, xs = simulate(harmonic_potential(k=k), method=method,\n",
    "                      num_particles=N, dt=dt, max_t=max_t,\n",
    "                      x0=x0, D=D, beta=beta)\n",
    "    #times.append(ts)\n",
    "    #mean_sim.append(np.mean(xs, axis=1))\n",
    "    #var_sim.append(np.var(xs, axis=1))\n",
    "    \n",
    "    RMSD.append(np.sqrt(np.mean((mean_sim-mean_predict)**2)))"
   ]
  },
  {
   "cell_type": "code",
   "execution_count": 114,
   "metadata": {},
   "outputs": [
    {
     "data": {
      "text/plain": [
       "[<matplotlib.lines.Line2D at 0x7fa3fabdffd0>]"
      ]
     },
     "execution_count": 114,
     "metadata": {},
     "output_type": "execute_result"
    },
    {
     "data": {
      "image/png": "[encoded data removed]",
      "text/plain": [
       "<Figure size 432x288 with 1 Axes>"
      ]
     },
     "metadata": {},
     "output_type": "display_data"
    }
   ],
   "source": [
    "for t, v in zip(times, var_sim):\n",
    "    plt.plot(t, v)\n",
    "plt.plot(times[-1], var_sim[-1])"
   ]
  },
  {
   "cell_type": "code",
   "execution_count": 115,
   "metadata": {},
   "outputs": [],
   "source": [
    "for m, s, dt, (i, ts) in zip(mean_sim, var_sim, DTs, enumerate(times)):\n",
    "    with open('../data/harmonic_behavior_dt_{}.data'.format(dt), 'w') as f:\n",
    "        for t, mi, si in zip(ts, m, s):\n",
    "            f.write('{} {} {} {}\\n'.format(t, mi, si, i))"
   ]
  },
  {
   "cell_type": "code",
   "execution_count": null,
   "metadata": {},
   "outputs": [],
   "source": []
  }
 ],
 "metadata": {
  "kernelspec": {
   "display_name": "Python 3",
   "language": "python",
   "name": "python3"
  },
  "language_info": {
   "codemirror_mode": {
    "name": "ipython",
    "version": 3
   },
   "file_extension": ".py",
   "mimetype": "text/x-python",
   "name": "python",
   "nbconvert_exporter": "python",
   "pygments_lexer": "ipython3",
   "version": "3.5.5"
  }
 },
 "nbformat": 4,
 "nbformat_minor": 2
}
