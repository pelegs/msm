{
 "cells": [
  {
   "cell_type": "code",
   "execution_count": 1,
   "metadata": {},
   "outputs": [],
   "source": [
    "from matplotlib import pyplot as plt \n",
    "import numpy as np  \n",
    "%matplotlib inline\n",
    "from tqdm import tqdm\n",
    "from scipy.special import erf"
   ]
  },
  {
   "cell_type": "code",
   "execution_count": 2,
   "metadata": {},
   "outputs": [],
   "source": [
    "import sys\n",
    "sys.path.append('../lib')\n",
    "from simlib import *"
   ]
  },
  {
   "cell_type": "code",
   "execution_count": 3,
   "metadata": {},
   "outputs": [],
   "source": [
    "def gen_int(x, m, s):\n",
    "    return s*erf((x-m)/(np.sqrt(2)*s))/(2*np.abs(s))\n",
    "\n",
    "def integral(x1, x2, m, v):\n",
    "    s = np.sqrt(v)\n",
    "    return gen_int(x2, m, s) - gen_int(x1, m, s)"
   ]
  },
  {
   "cell_type": "code",
   "execution_count": 4,
   "metadata": {},
   "outputs": [],
   "source": [
    "method = 'lang'"
   ]
  },
  {
   "cell_type": "code",
   "execution_count": 5,
   "metadata": {},
   "outputs": [],
   "source": [
    "ks = [0.5, 1.0, 1.5, 2.0, 2.5]\n",
    "bs = [0.1, 0.3, 0.7, 1.0, 1.2]\n",
    "Ds = [0.1, 0.5, 1.0, 1.5, 5.0]\n",
    "sqrtbks = []"
   ]
  },
  {
   "cell_type": "code",
   "execution_count": 117,
   "metadata": {},
   "outputs": [
    {
     "name": "stderr",
     "output_type": "stream",
     "text": [
      "100%|██████████| 999/999 [00:00<00:00, 1258.15it/s]\n",
      "100%|██████████| 999/999 [00:00<00:00, 1291.02it/s]\n",
      "100%|██████████| 999/999 [00:00<00:00, 1435.97it/s]\n",
      "100%|██████████| 999/999 [00:00<00:00, 1321.44it/s]\n",
      "100%|██████████| 999/999 [00:00<00:00, 1237.18it/s]\n",
      "100%|██████████| 999/999 [00:00<00:00, 1240.51it/s]\n",
      "100%|██████████| 999/999 [00:00<00:00, 1351.03it/s]\n",
      "100%|██████████| 999/999 [00:00<00:00, 1370.35it/s]\n",
      "100%|██████████| 999/999 [00:00<00:00, 1266.88it/s]\n",
      "100%|██████████| 999/999 [00:00<00:00, 1394.43it/s]\n",
      "100%|██████████| 999/999 [00:00<00:00, 1366.85it/s]\n",
      "100%|██████████| 999/999 [00:00<00:00, 1404.04it/s]\n",
      "100%|██████████| 999/999 [00:00<00:00, 1362.18it/s]\n",
      "100%|██████████| 999/999 [00:00<00:00, 1428.96it/s]\n",
      "100%|██████████| 999/999 [00:00<00:00, 1353.65it/s]\n",
      "100%|██████████| 999/999 [00:00<00:00, 1320.05it/s]\n",
      "100%|██████████| 999/999 [00:00<00:00, 1423.77it/s]\n",
      "100%|██████████| 999/999 [00:00<00:00, 1318.25it/s]\n",
      "100%|██████████| 999/999 [00:00<00:00, 1434.25it/s]\n",
      "100%|██████████| 999/999 [00:00<00:00, 1318.25it/s]\n",
      "100%|██████████| 999/999 [00:00<00:00, 1260.22it/s]\n",
      "100%|██████████| 999/999 [00:00<00:00, 1251.41it/s]\n",
      "100%|██████████| 999/999 [00:00<00:00, 1187.15it/s]\n",
      "100%|██████████| 999/999 [00:00<00:00, 1369.79it/s]\n",
      "100%|██████████| 999/999 [00:00<00:00, 1395.16it/s]\n",
      "100%|██████████| 999/999 [00:00<00:00, 1467.66it/s]\n",
      "100%|██████████| 999/999 [00:00<00:00, 1368.46it/s]\n",
      "100%|██████████| 999/999 [00:00<00:00, 1390.30it/s]\n",
      "100%|██████████| 999/999 [00:00<00:00, 1334.25it/s]\n",
      "100%|██████████| 999/999 [00:00<00:00, 1388.99it/s]\n",
      "100%|██████████| 999/999 [00:00<00:00, 1419.09it/s]\n",
      "100%|██████████| 999/999 [00:00<00:00, 1341.31it/s]\n",
      "100%|██████████| 999/999 [00:00<00:00, 1408.72it/s]\n",
      "100%|██████████| 999/999 [00:00<00:00, 1337.69it/s]\n",
      "100%|██████████| 999/999 [00:00<00:00, 1320.20it/s]\n",
      "100%|██████████| 999/999 [00:00<00:00, 1435.41it/s]\n",
      "100%|██████████| 999/999 [00:00<00:00, 1246.97it/s]\n",
      "100%|██████████| 999/999 [00:00<00:00, 1411.28it/s]\n",
      "100%|██████████| 999/999 [00:00<00:00, 1342.53it/s]\n",
      "100%|██████████| 999/999 [00:00<00:00, 1493.64it/s]\n",
      "100%|██████████| 999/999 [00:00<00:00, 1351.88it/s]\n",
      "100%|██████████| 999/999 [00:00<00:00, 1387.13it/s]\n",
      "100%|██████████| 999/999 [00:00<00:00, 1391.11it/s]\n",
      "100%|██████████| 999/999 [00:00<00:00, 1379.64it/s]\n",
      "100%|██████████| 999/999 [00:00<00:00, 1338.38it/s]\n",
      "100%|██████████| 999/999 [00:00<00:00, 1487.23it/s]\n",
      "100%|██████████| 999/999 [00:00<00:00, 1427.00it/s]\n",
      "100%|██████████| 999/999 [00:00<00:00, 1183.15it/s]\n",
      "100%|██████████| 999/999 [00:00<00:00, 1389.53it/s]\n",
      "100%|██████████| 999/999 [00:00<00:00, 1425.13it/s]\n"
     ]
    }
   ],
   "source": [
    "num_particles = 200\n",
    "max_t = 10\n",
    "dt = 0.01\n",
    "ts = np.arange(0, max_t, dt)\n",
    "D, k, beta = 1.04, 0.87, 2.43\n",
    "x0 = 3\n",
    "U = harmonic_potential(k=k)\n",
    "\n",
    "num_repetitions = 50\n",
    "num_steps = int(max_t/dt)\n",
    "xs = np.zeros(shape=(num_repetitions, num_steps, num_particles))\n",
    "for i in range(num_repetitions):\n",
    "    ts, xs[i] = simulate(U, method=method, num_particles=num_particles, max_t=max_t, dt=dt, KT=1/beta, x0=3, D=D)"
   ]
  },
  {
   "cell_type": "code",
   "execution_count": 118,
   "metadata": {},
   "outputs": [],
   "source": [
    "bins = np.arange(-5, 5, 0.1)\n",
    "num_bins = len(bins)-1"
   ]
  },
  {
   "cell_type": "code",
   "execution_count": 142,
   "metadata": {},
   "outputs": [],
   "source": [
    "m = x0 * np.exp(-D*beta*k*ts)\n",
    "v = 1/(beta*k)*(1-np.exp(-2*D*beta*k*ts))\n",
    "\n",
    "hist = []\n",
    "mean_x = []\n",
    "var_x = []\n",
    "for i in range(num_repetitions):\n",
    "    hist.append(np.array([np.histogram(x, bins)[0] for x in xs[i][1:]]))\n",
    "hist = np.array(hist)\n",
    "mean_hist = np.mean(hist, axis=0)\n",
    "\n",
    "# the reason for [1:] in the means and stdevs is that at the first time step the distribution is a delta function,\n",
    "# and thus it's histogram can't be plotted\n",
    "expected = num_particles * np.array([[integral(bins[j], bins[j+1], mean, var) for j, _ in enumerate(bins[:-1])]\n",
    "                                     for mean, var in zip(m[1:], s[1:])])\n"
   ]
  },
  {
   "cell_type": "code",
   "execution_count": 187,
   "metadata": {},
   "outputs": [],
   "source": [
    "steps = int(max_t/dt)\n",
    "mean_x = np.zeros(steps)\n",
    "var_x = np.zeros(steps)\n",
    "for i in range(steps):\n",
    "    mean_x[i] = np.mean(xs[:,i].flatten())\n",
    "    var_x[i] = np.var(xs[:,i].flatten())"
   ]
  },
  {
   "cell_type": "code",
   "execution_count": 143,
   "metadata": {},
   "outputs": [
    {
     "name": "stdout",
     "output_type": "stream",
     "text": [
      "100 100.0%\n"
     ]
    },
    {
     "data": {
      "image/png": "[encoded data removed]",
      "text/plain": [
       "<Figure size 432x288 with 1 Axes>"
      ]
     },
     "metadata": {},
     "output_type": "display_data"
    }
   ],
   "source": [
    "i = 100\n",
    "plt.plot(bins[:-1], mean_hist[i], color='#000099')\n",
    "plt.plot(bins[:-1], expected[i], color='red')\n",
    "fit = [1 if (e-np.sqrt(e) <= h <= e+np.sqrt(e)) else 0 for h, e in zip(mean_hist[i], expected[i])]\n",
    "print('{} {:0.1f}%'.format(i, np.sum(fit)/num_bins*100))"
   ]
  },
  {
   "cell_type": "code",
   "execution_count": 188,
   "metadata": {},
   "outputs": [],
   "source": [
    "with open('../data/harmonic_stats_test.data', 'w') as f:\n",
    "    f.write('# Num repetitions: {}; D={},k={},beta={}\\n'.format(num_repetitions, D, k, beta))\n",
    "    for i, t in enumerate(ts[1:]):\n",
    "        fit = [1 if (e-np.sqrt(e) <= h <= e+np.sqrt(e)) else 0 for h, e in zip(mean_hist[i], expected[i])]\n",
    "        p = np.sum(fit)/num_bins*100\n",
    "        f.write('{} {} {} {}\\n'.format(t, mean_x[i], var_x[i], p))"
   ]
  },
  {
   "cell_type": "code",
   "execution_count": 189,
   "metadata": {},
   "outputs": [
    {
     "data": {
      "text/plain": [
       "2.198664"
      ]
     },
     "execution_count": 189,
     "metadata": {},
     "output_type": "execute_result"
    }
   ],
   "source": [
    "beta*k*D"
   ]
  },
  {
   "cell_type": "code",
   "execution_count": 191,
   "metadata": {},
   "outputs": [
    {
     "data": {
      "text/plain": [
       "(2.1141, 1.04)"
      ]
     },
     "execution_count": 191,
     "metadata": {},
     "output_type": "execute_result"
    }
   ],
   "source": [
    "beta*k, D"
   ]
  },
  {
   "cell_type": "code",
   "execution_count": null,
   "metadata": {},
   "outputs": [],
   "source": []
  }
 ],
 "metadata": {
  "kernelspec": {
   "display_name": "Python 3",
   "language": "python",
   "name": "python3"
  },
  "language_info": {
   "codemirror_mode": {
    "name": "ipython",
    "version": 3
   },
   "file_extension": ".py",
   "mimetype": "text/x-python",
   "name": "python",
   "nbconvert_exporter": "python",
   "pygments_lexer": "ipython3",
   "version": "3.5.5"
  }
 },
 "nbformat": 4,
 "nbformat_minor": 2
}
