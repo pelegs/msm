{
 "cells": [
  {
   "cell_type": "code",
   "execution_count": 1,
   "metadata": {},
   "outputs": [],
   "source": [
    "import numpy as np\n",
    "#from scipy import stats\n",
    "from scipy.odr import *\n",
    "%matplotlib inline\n",
    "from matplotlib import pyplot as plt"
   ]
  },
  {
   "cell_type": "code",
   "execution_count": 2,
   "metadata": {},
   "outputs": [],
   "source": [
    "import sys\n",
    "sys.path.append('../lib')\n",
    "from simlib import *"
   ]
  },
  {
   "cell_type": "code",
   "execution_count": 3,
   "metadata": {},
   "outputs": [],
   "source": [
    "method = 'lang'\n",
    "num_particles = 100"
   ]
  },
  {
   "cell_type": "code",
   "execution_count": 4,
   "metadata": {},
   "outputs": [],
   "source": [
    "def linear_func(B, x):\n",
    "    return B[0]*x+B[1]"
   ]
  },
  {
   "cell_type": "code",
   "execution_count": 5,
   "metadata": {},
   "outputs": [],
   "source": [
    "dt = 0.1\n",
    "max_t = 10\n",
    "steps = int(max_t/dt)"
   ]
  },
  {
   "cell_type": "code",
   "execution_count": 6,
   "metadata": {},
   "outputs": [
    {
     "name": "stderr",
     "output_type": "stream",
     "text": [
      "100%|██████████| 99/99 [00:00<00:00, 1297.14it/s]\n",
      "100%|██████████| 99/99 [00:00<00:00, 1922.88it/s]\n",
      "100%|██████████| 99/99 [00:00<00:00, 1712.40it/s]\n",
      "100%|██████████| 99/99 [00:00<00:00, 1705.39it/s]\n",
      "100%|██████████| 99/99 [00:00<00:00, 1921.86it/s]\n",
      "100%|██████████| 99/99 [00:00<00:00, 1715.34it/s]\n",
      "100%|██████████| 99/99 [00:00<00:00, 1508.18it/s]\n",
      "100%|██████████| 99/99 [00:00<00:00, 1462.72it/s]\n",
      "100%|██████████| 99/99 [00:00<00:00, 1729.26it/s]\n",
      "100%|██████████| 99/99 [00:00<00:00, 1464.83it/s]\n"
     ]
    }
   ],
   "source": [
    "N = 10\n",
    "Ds = np.linspace(10, 0.5, N)\n",
    "ms = np.zeros(N)\n",
    "sd = np.zeros(N)\n",
    "\n",
    "for d, D in enumerate(Ds):\n",
    "    ts, xs = simulate(zero_potential(), method=method, num_particles=num_particles, D=D, max_t=max_t, dt=dt)\n",
    "    # xs[:,i] is the trajectory of particle i\n",
    "    SD = np.zeros(shape=(num_particles, steps-1))\n",
    "    for i in range(num_particles):\n",
    "        SD[i] = [(xs[t,i] - xs[0,i])**2 for t in range(steps-1)]\n",
    "\n",
    "    # SD[:,t] is an array with all the different SD values\n",
    "    # (from the different particles) in the time step t\n",
    "    MSD = np.zeros(steps-1)\n",
    "    VAR = np.zeros(steps-1)\n",
    "    for t in range(steps-1):\n",
    "        MSD[t] = np.mean(SD[:,t])\n",
    "        VAR[t] = np.var(SD[:,t])\n",
    "    \n",
    "    linear = Model(linear_func)\n",
    "    data = RealData(ts[:-1], MSD, np.max(VAR))\n",
    "    odr = ODR(data, linear, beta0=[1.3, 0.4])\n",
    "    out = odr.run()\n",
    "    ms[d] = out.beta[0]\n",
    "    sd[d] = out.sd_beta[0]"
   ]
  },
  {
   "cell_type": "code",
   "execution_count": 7,
   "metadata": {},
   "outputs": [
    {
     "name": "stdout",
     "output_type": "stream",
     "text": [
      "15.0918353689 10.0\n",
      "13.1847544936 8.94444444444\n",
      "4.08885013212 7.88888888889\n",
      "34.8345994972 6.83333333333\n",
      "20.5427643652 5.77777777778\n",
      "1.57867244179 4.72222222222\n",
      "29.4446311013 3.66666666667\n",
      "39.7828344705 2.61111111111\n",
      "28.9348580722 1.55555555556\n",
      "117.997719718 0.5\n"
     ]
    }
   ],
   "source": [
    "for d, m in zip(ms, Ds):\n",
    "    print(d, m)"
   ]
  },
  {
   "cell_type": "code",
   "execution_count": 8,
   "metadata": {},
   "outputs": [
    {
     "data": {
      "text/plain": [
       "3.4640210170903551"
      ]
     },
     "execution_count": 8,
     "metadata": {},
     "output_type": "execute_result"
    }
   ],
   "source": [
    "data = RealData(Ds, ms, sy=sd)\n",
    "odr = ODR(data, linear, beta0=[2, 0.0])\n",
    "out = odr.run()\n",
    "out.sd_beta[0]"
   ]
  },
  {
   "cell_type": "code",
   "execution_count": null,
   "metadata": {},
   "outputs": [],
   "source": []
  }
 ],
 "metadata": {
  "kernelspec": {
   "display_name": "Python 3",
   "language": "python",
   "name": "python3"
  },
  "language_info": {
   "codemirror_mode": {
    "name": "ipython",
    "version": 3
   },
   "file_extension": ".py",
   "mimetype": "text/x-python",
   "name": "python",
   "nbconvert_exporter": "python",
   "pygments_lexer": "ipython3",
   "version": "3.5.5"
  }
 },
 "nbformat": 4,
 "nbformat_minor": 2
}
